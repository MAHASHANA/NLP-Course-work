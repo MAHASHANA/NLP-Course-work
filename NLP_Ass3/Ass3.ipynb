{
 "cells": [
  {
   "cell_type": "code",
   "execution_count": 11,
   "metadata": {},
   "outputs": [
    {
     "name": "stdout",
     "output_type": "stream",
     "text": [
      "Using cuda.\n"
     ]
    },
    {
     "data": {
      "text/plain": [
       "100000000"
      ]
     },
     "execution_count": 11,
     "metadata": {},
     "output_type": "execute_result"
    }
   ],
   "source": [
    "import torch\n",
    "import re\n",
    "from collections import Counter\n",
    "from nltk.corpus import stopwords\n",
    "from nltk.tokenize import word_tokenize\n",
    "import nltk\n",
    "import json\n",
    "from collections import Counter\n",
    "\n",
    "# Check if CUDA is available\n",
    "device = torch.device(\"cuda\" if torch.cuda.is_available() else \"cpu\")\n",
    "print(f\"Using {device.type}.\")\n",
    "\n",
    "\n",
    "# Load your dataset\n",
    "text = open('C:/Users/raghu/CS6120_mywork_NLP/NLP_Ass3/archive2/text8').read().lower()\n",
    "\n",
    "len(text)"
   ]
  },
  {
   "cell_type": "code",
   "execution_count": 12,
   "metadata": {},
   "outputs": [
    {
     "name": "stdout",
     "output_type": "stream",
     "text": [
      "Total GPU Memory: 8.00 GB\n",
      "Allocated Memory: 0.05 GB\n",
      "Free Memory: 7.95 GB\n"
     ]
    }
   ],
   "source": [
    "import torch\n",
    "\n",
    "if torch.cuda.is_available():\n",
    "    device_index = torch.cuda.current_device()\n",
    "    total_memory = torch.cuda.get_device_properties(device_index).total_memory\n",
    "    allocated_memory = torch.cuda.memory_allocated(device_index)\n",
    "    free_memory = total_memory - allocated_memory\n",
    "\n",
    "    print(f\"Total GPU Memory: {total_memory / (1024 ** 3):.2f} GB\")\n",
    "    print(f\"Allocated Memory: {allocated_memory / (1024 ** 3):.2f} GB\")\n",
    "    print(f\"Free Memory: {free_memory / (1024 ** 3):.2f} GB\")\n",
    "else:\n",
    "    print(\"CUDA is not available. Check your installation and GPU.\")\n"
   ]
  },
  {
   "cell_type": "code",
   "execution_count": 3,
   "metadata": {},
   "outputs": [],
   "source": [
    "# # Tokenize and clean the dataset\n",
    "# stop_wrods = stopwords.words('english')\n",
    "# tokens = word_tokenize(text)\n",
    "# tokens = [word.lower() for word in tokens if word.isalpha() and word not in stop_wrods]\n",
    "# json_file_path = \"C:/Users/raghu/CS6120_mywork_NLP/NLP_Ass3/tokens2.json\"\n",
    "\n",
    "# # Writing the tokens to the specified JSON file\n",
    "# with open(json_file_path, \"w\") as json_file:\n",
    "#     json.dump(tokens, json_file)\n",
    "\n",
    "# json_file_path"
   ]
  },
  {
   "cell_type": "code",
   "execution_count": 13,
   "metadata": {},
   "outputs": [],
   "source": [
    "json_file_path = \"C:/Users/raghu/CS6120_mywork_NLP/NLP_Ass3/tokens2.json\"\n",
    "\n",
    "# Reading the tokens from the JSON file to build the vocabulary\n",
    "with open(json_file_path, \"r\") as json_file:\n",
    "    loaded_tokens = json.load(json_file)\n",
    "\n",
    "\n",
    "# Build vocabulary\n",
    "vocab = Counter(loaded_tokens)\n",
    "vocab = [word for word, freq in vocab.most_common(20000)]\n",
    "vocab_size = len(vocab)"
   ]
  },
  {
   "cell_type": "code",
   "execution_count": 14,
   "metadata": {},
   "outputs": [
    {
     "data": {
      "text/plain": [
       "10888361"
      ]
     },
     "execution_count": 14,
     "metadata": {},
     "output_type": "execute_result"
    }
   ],
   "source": [
    "len(loaded_tokens)"
   ]
  },
  {
   "cell_type": "code",
   "execution_count": 8,
   "metadata": {},
   "outputs": [],
   "source": [
    "# # Function to generate context target pairs\n",
    "# def generate_context_target_pairs(text, context_size):\n",
    "#     data = []\n",
    "#     for i in range(context_size, len(text) - context_size):\n",
    "#         # Efficiently create context by concatenating two slices\n",
    "#         context = text[i - context_size:i] + text[i + 1:i + context_size + 1]\n",
    "#         target = text[i]\n",
    "#         data.append((context, target))\n",
    "#     return data\n"
   ]
  },
  {
   "cell_type": "code",
   "execution_count": 16,
   "metadata": {},
   "outputs": [
    {
     "data": {
      "text/plain": [
       "(10888357, [['anarchism', 'originated', 'abuse', 'first'], 'term'])"
      ]
     },
     "execution_count": 16,
     "metadata": {},
     "output_type": "execute_result"
    }
   ],
   "source": [
    "jpath_context_tar_pairs = \"C:\\\\Users\\\\raghu\\\\CS6120_mywork_NLP\\\\NLP_Ass3\\\\context_target_pairs_2.json\"\n",
    "\n",
    "# Reading the tokens from the JSON file to build the vocabulary\n",
    "with open(jpath_context_tar_pairs, \"r\") as json_file:\n",
    "    load_context_target_pairs = json.load(json_file)\n",
    "\n",
    "\n",
    "len(load_context_target_pairs), load_context_target_pairs[0]"
   ]
  },
  {
   "cell_type": "code",
   "execution_count": 18,
   "metadata": {},
   "outputs": [],
   "source": [
    "import torch\n",
    "import torch.nn as nn\n",
    "import torch.optim as optim\n",
    "\n",
    "class CBOWModel(nn.Module):\n",
    "    def __init__(self, vocab_size, embedding_dim):\n",
    "        super(CBOWModel, self).__init__()\n",
    "        self.embeddings = nn.Embedding(vocab_size, embedding_dim)\n",
    "        self.linear = nn.Linear(embedding_dim, vocab_size)\n",
    "\n",
    "    def forward(self, inputs):\n",
    "        # inputs shape: [batch_size, context_size]\n",
    "        embeds = self.embeddings(inputs)  # Shape: [batch_size, context_size, embedding_dim]\n",
    "        avg_embeds = embeds.mean(dim=1)  # Average across context_size to get [batch_size, embedding_dim]\n",
    "        out = self.linear(avg_embeds)  # Now: [batch_size, vocab_size]\n",
    "        log_probs = torch.log_softmax(out, dim=1)\n",
    "        return log_probs\n",
    "    \n",
    "\n",
    "\n",
    "class SkipGramModel(nn.Module):\n",
    "    def __init__(self, vocab_size, embedding_dim):\n",
    "        super(SkipGramModel, self).__init__()\n",
    "        self.embeddings = nn.Embedding(vocab_size, embedding_dim)\n",
    "        self.linear = nn.Linear(embedding_dim, vocab_size)\n",
    "\n",
    "    def forward(self, target_word):\n",
    "        embeds = self.embeddings(target_word)\n",
    "        out = self.linear(embeds)\n",
    "        log_probs = torch.log_softmax(out, dim=1)\n",
    "        return log_probs\n"
   ]
  },
  {
   "cell_type": "code",
   "execution_count": 19,
   "metadata": {},
   "outputs": [],
   "source": [
    "word_to_index = {word: i for i, word in enumerate(vocab)}\n",
    "\n",
    "def words_to_indices(tokens, word_to_index):\n",
    "    return [word_to_index[word] for word in tokens if word in word_to_index]\n"
   ]
  },
  {
   "cell_type": "code",
   "execution_count": 20,
   "metadata": {},
   "outputs": [],
   "source": [
    "# contex, target words converted to indices for CBOW\n",
    "converted_training_data = []\n",
    "for context, target in load_context_target_pairs:\n",
    "    context_indices = words_to_indices(context, word_to_index)\n",
    "    if target in word_to_index:  # Ensure the target word is also in the vocabulary\n",
    "        target_index = word_to_index[target]\n",
    "        converted_training_data.append((context_indices, target_index))\n"
   ]
  },
  {
   "cell_type": "code",
   "execution_count": 10,
   "metadata": {},
   "outputs": [
    {
     "data": {
      "text/plain": [
       "9898298"
      ]
     },
     "execution_count": 10,
     "metadata": {},
     "output_type": "execute_result"
    }
   ],
   "source": [
    "len(converted_training_data)"
   ]
  },
  {
   "cell_type": "code",
   "execution_count": 21,
   "metadata": {},
   "outputs": [],
   "source": [
    "# contex, target words converted to indices for Skip_gram\n",
    "converted_skip_training_data = []\n",
    "for context, target in load_context_target_pairs:\n",
    "    if target in word_to_index:  # Ensure the target word is also in the vocabulary\n",
    "        target_index = word_to_index[target]\n",
    "        # For Skip-gram, generate a pair for each context word\n",
    "        for context_word in context:\n",
    "            if context_word in word_to_index:  # Ensure the context word is also in the vocabulary\n",
    "                context_index = word_to_index[context_word]\n",
    "                # Append a pair of (target_index, context_index)\n",
    "                converted_skip_training_data.append((target_index, context_index))"
   ]
  },
  {
   "cell_type": "code",
   "execution_count": 23,
   "metadata": {},
   "outputs": [
    {
     "data": {
      "text/plain": [
       "36340176"
      ]
     },
     "execution_count": 23,
     "metadata": {},
     "output_type": "execute_result"
    }
   ],
   "source": [
    "len(converted_skip_training_data)"
   ]
  },
  {
   "cell_type": "code",
   "execution_count": 24,
   "metadata": {},
   "outputs": [],
   "source": [
    "from torch.utils.data import Dataset, DataLoader\n",
    "\n",
    "class WordEmbeddingDataset(Dataset):\n",
    "    def __init__(self, training_data):\n",
    "        self.training_data = training_data\n",
    "\n",
    "    def __len__(self):\n",
    "        return len(self.training_data)\n",
    "\n",
    "    def __getitem__(self, idx):\n",
    "        context_indices, target_index = self.training_data[idx]\n",
    "        return torch.tensor([context_indices], dtype=torch.long), torch.tensor([target_index], dtype=torch.long)\n"
   ]
  },
  {
   "cell_type": "code",
   "execution_count": 14,
   "metadata": {},
   "outputs": [],
   "source": [
    "# vocab_size = len(vocab)  # Determine from your vocabulary\n",
    "# embedding_dim = 100  # Choose a suitable embedding dimension\n",
    "# model = CBOWModel(vocab_size, embedding_dim).to(device)\n",
    "# loss_function = nn.NLLLoss()\n",
    "# optimizer = optim.SGD(model.parameters(), lr=0.01)\n",
    "# num_epochs = 5\n",
    "# training_data = converted_training_data[:10000]\n",
    "# # Filtering out empty arryys with 0 context words\n",
    "# filtered_training_data = [item for item in training_data if len(item[0]) > 0]\n",
    "# batch_size = 256  # Adjust based on your GPU memory\n",
    "# dataset = WordEmbeddingDataset(filtered_training_data)  # Use your filtered training data here\n",
    "# data_loader = DataLoader(dataset, batch_size=batch_size, shuffle=True, num_workers=6)\n",
    "\n",
    "# for epoch in range(num_epochs):\n",
    "#     total_loss = 0\n",
    "#     for context_indices, target_index in data_loader:  # Batches are automatically provided by the DataLoader\n",
    "#         context_indices = context_indices.to(device)\n",
    "#         target_index = target_index.to(device)\n",
    "#         model.zero_grad()\n",
    "#         log_probs = model(context_indices)  # Your model might need adjustments to handle batched data\n",
    "#         loss = loss_function(log_probs, target_index)\n",
    "#         loss.backward()\n",
    "#         optimizer.step()\n",
    "#         total_loss += loss.item()\n",
    "#     print(f\"Epoch {epoch}: Total Loss = {total_loss}\")\n"
   ]
  },
  {
   "cell_type": "code",
   "execution_count": 25,
   "metadata": {},
   "outputs": [
    {
     "name": "stdout",
     "output_type": "stream",
     "text": [
      "Epoch 0: Total Loss = 95086.29384549335\n",
      "Epoch 1: Total Loss = 87746.39485730976\n",
      "Epoch 2: Total Loss = 82503.27687167749\n",
      "Epoch 3: Total Loss = 78018.20894682407\n",
      "Epoch 4: Total Loss = 74000.58710891823\n"
     ]
    }
   ],
   "source": [
    "vocab_size = len(vocab)  # Determine from your vocabulary\n",
    "embedding_dim = 100  # Choose a suitable embedding dimension\n",
    "\n",
    "model = CBOWModel(vocab_size, embedding_dim).to(device)\n",
    "loss_function = nn.NLLLoss()\n",
    "optimizer = optim.SGD(model.parameters(), lr=0.01)\n",
    "num_epochs = 5\n",
    "training_data = converted_training_data[:10000]\n",
    "# Filtering out empty arryys with 0 context words\n",
    "filtered_training_data = [item for item in training_data if len(item[0]) > 0]\n",
    "# Training Loop\n",
    "for epoch in range(num_epochs):\n",
    "\n",
    "    total_loss = 0\n",
    "    for context_indices, target_index in filtered_training_data:\n",
    "        context_var = torch.tensor([context_indices], dtype=torch.long).to(device)\n",
    "        target_var = torch.tensor([target_index], dtype=torch.long).to(device)\n",
    "        model.zero_grad()\n",
    "        log_probs = model(context_var)\n",
    "        loss = loss_function(log_probs, target_var)\n",
    "        loss.backward()\n",
    "        optimizer.step()\n",
    "        total_loss += loss.item()\n",
    "    print(f\"Epoch {epoch}: Total Loss = {total_loss}\")\n"
   ]
  },
  {
   "cell_type": "code",
   "execution_count": 27,
   "metadata": {},
   "outputs": [
    {
     "name": "stdout",
     "output_type": "stream",
     "text": [
      "Epoch 0: Total Loss = 116153.69325568635\n",
      "Epoch 1: Total Loss = 82863.40459771757\n",
      "Epoch 2: Total Loss = 75349.25774848455\n",
      "Epoch 3: Total Loss = 70848.23209585721\n",
      "Epoch 4: Total Loss = 68970.9664796457\n"
     ]
    }
   ],
   "source": [
    "skip_model = SkipGramModel(vocab_size, embedding_dim).to(device)\n",
    "loss_function = nn.NLLLoss()\n",
    "optimizer = optim.Adam(skip_model.parameters(), lr=0.01)\n",
    "num_epochs = 5\n",
    "training_data = converted_skip_training_data[:10000]\n",
    "# Training Loop\n",
    "for epoch in range(num_epochs):\n",
    "\n",
    "    total_loss = 0\n",
    "    for context_indices, target_index in training_data:\n",
    "        context_var = torch.tensor([context_indices], dtype=torch.long).to(device)\n",
    "        target_var = torch.tensor([target_index], dtype=torch.long).to(device)\n",
    "        skip_model.zero_grad()\n",
    "        log_probs = skip_model(context_var)\n",
    "        loss = loss_function(log_probs, target_var)\n",
    "        loss.backward()\n",
    "        optimizer.step()\n",
    "        total_loss += loss.item()\n",
    "    print(f\"Epoch {epoch}: Total Loss = {total_loss}\")\n"
   ]
  },
  {
   "cell_type": "code",
   "execution_count": 28,
   "metadata": {},
   "outputs": [],
   "source": [
    "import numpy as np\n",
    "# Extarcting embedding from embedding layer's weights\n",
    "cbow_word_embeddings = model.embeddings.weight.data.cpu().numpy()\n",
    "skip_word_embeddings = skip_model.embeddings.weight.data.cpu().numpy()\n",
    "\n",
    "\n",
    "# Saving the embeddings for later use\n",
    "np.save('CBOW_word_embeddings.npy', cbow_word_embeddings)\n",
    "np.save('SkipGram_word_embeddings.npy', skip_word_embeddings)\n",
    "\n",
    "# To load these embeddings later\n",
    "cbow_loaded_embeddings = np.load('CBOW_word_embeddings.npy')\n",
    "skip_loaded_embeddings = np.load('SkipGram_word_embeddings.npy')"
   ]
  },
  {
   "cell_type": "code",
   "execution_count": 29,
   "metadata": {},
   "outputs": [
    {
     "name": "stdout",
     "output_type": "stream",
     "text": [
      "Embedding for the word 'went': [-0.4849971   0.9900263   0.37533402 -1.1048199  -0.4661441   0.46639892\n",
      "  2.2026105  -0.46282822 -0.2982269  -0.66518694  1.2401046  -0.3922466\n",
      " -0.04353609 -0.96940583 -0.7604375   0.29433507  0.19989127  0.5695766\n",
      " -0.54126126  1.6028134   1.1367168  -0.68832123 -0.6204035  -2.7773607\n",
      "  0.26772618 -0.7404348   0.8661951   0.69436723 -2.9839628  -0.6583806\n",
      " -1.0230813  -1.278414    0.34610072 -0.90456617  0.76559913  0.11184783\n",
      "  2.8527741   1.1616607   0.29676363  2.135462   -1.0247191   0.09320427\n",
      "  0.20412058  1.6326209   0.86534655  0.02084959  0.88593596  1.6382701\n",
      "  0.99044883 -1.0412594   1.0151453  -0.88756675 -1.2942655   0.18906717\n",
      " -0.13625738 -0.6886316  -0.09496537 -0.7138599  -1.5489385  -0.7829199\n",
      "  1.0052898   0.4860758  -0.11180492 -0.8936083   0.01594184  0.13704191\n",
      " -0.46484253  0.6508991   1.0760423  -0.6133793   1.1477555   1.1229591\n",
      " -0.95691013 -0.54820526 -0.57219136 -2.1135929   1.0900255   0.19808447\n",
      "  0.45466608  0.5175789  -1.1391803  -0.89646024  0.5519776  -1.3482344\n",
      "  0.18668485  0.49191442  0.71651715 -0.69806594 -0.7328571  -0.64928544\n",
      "  0.6959548  -0.44394958 -0.7192523   0.2744152   2.952152   -2.4327176\n",
      "  0.44761783 -1.2085478  -1.0387015  -0.9149295 ]\n"
     ]
    }
   ],
   "source": [
    "def get_embedding_for_word(word, word_to_index, embeddings):\n",
    "    word_index = word_to_index.get(word)\n",
    "    if word_index is not None:\n",
    "        return embeddings[word_index]\n",
    "    else:\n",
    "        return None\n",
    "\n",
    "# Example usage\n",
    "word = 'went'\n",
    "embedding = get_embedding_for_word(word, word_to_index, skip_loaded_embeddings)\n",
    "print(f\"Embedding for the word '{word}': {embedding}\")\n"
   ]
  },
  {
   "cell_type": "code",
   "execution_count": 30,
   "metadata": {},
   "outputs": [],
   "source": [
    "from numpy.linalg import norm\n",
    "\n",
    "def cosine_similarity(vec_a, vec_b):\n",
    "    \"\"\"Compute the cosine similarity between two vectors.\"\"\"\n",
    "    return np.dot(vec_a, vec_b) / (norm(vec_a) * norm(vec_b))\n"
   ]
  },
  {
   "cell_type": "code",
   "execution_count": 31,
   "metadata": {},
   "outputs": [
    {
     "name": "stdout",
     "output_type": "stream",
     "text": [
      "Cosine similarity between 'king' and 'queen': 0.08031344413757324\n",
      "Cosine similarity between 'man' and 'woman': -0.15724319219589233\n",
      "Cosine similarity between 'paris' and 'france': 0.17142851650714874\n"
     ]
    }
   ],
   "source": [
    "# Assuming 'loaded_embeddings' is your array of word embeddings and 'word_to_index' is your word to index mapping\n",
    "\n",
    "word_pairs = [\n",
    "    ('king', 'queen'),\n",
    "    ('man', 'woman'),\n",
    "    ('paris', 'france'),\n",
    "]\n",
    "\n",
    "for word1, word2 in word_pairs:\n",
    "    embedding1 = get_embedding_for_word(word1, word_to_index, cbow_loaded_embeddings)\n",
    "    embedding2 = get_embedding_for_word(word2, word_to_index, cbow_loaded_embeddings)\n",
    "    if embedding1 is not None and embedding2 is not None:\n",
    "        similarity = cosine_similarity(embedding1, embedding2)\n",
    "        print(f\"Cosine similarity between '{word1}' and '{word2}': {similarity}\")\n",
    "    else:\n",
    "        print(f\"Word pair not found in vocabulary: '{word1}', '{word2}'\")\n"
   ]
  },
  {
   "cell_type": "code",
   "execution_count": 32,
   "metadata": {},
   "outputs": [
    {
     "name": "stdout",
     "output_type": "stream",
     "text": [
      "Cosine similarity between 'king' and 'queen': -0.014496013522148132\n",
      "Cosine similarity between 'man' and 'woman': -0.061666931957006454\n",
      "Cosine similarity between 'paris' and 'france': -0.030888674780726433\n"
     ]
    }
   ],
   "source": [
    "for word1, word2 in word_pairs:\n",
    "    embedding1 = get_embedding_for_word(word1, word_to_index, skip_loaded_embeddings)\n",
    "    embedding2 = get_embedding_for_word(word2, word_to_index, skip_loaded_embeddings)\n",
    "    if embedding1 is not None and embedding2 is not None:\n",
    "        similarity = cosine_similarity(embedding1, embedding2)\n",
    "        print(f\"Cosine similarity between '{word1}' and '{word2}': {similarity}\")\n",
    "    else:\n",
    "        print(f\"Word pair not found in vocabulary: '{word1}', '{word2}'\")\n"
   ]
  },
  {
   "cell_type": "code",
   "execution_count": 35,
   "metadata": {},
   "outputs": [
    {
     "data": {
      "image/png": "[encoded data removed]",
      "text/plain": [
       "<Figure size 1000x600 with 1 Axes>"
      ]
     },
     "metadata": {},
     "output_type": "display_data"
    }
   ],
   "source": [
    "from sklearn.manifold import TSNE\n",
    "import matplotlib.pyplot as plt\n",
    "\n",
    "# Select a subset of word embeddings to visualize\n",
    "words_to_visualize = ['king', 'queen', 'man', 'woman', 'paris', 'france', 'apple', 'orange']\n",
    "indices_to_visualize = [word_to_index[word] for word in words_to_visualize if word in word_to_index]\n",
    "embeddings_to_visualize = cbow_loaded_embeddings[indices_to_visualize]\n",
    "\n",
    "# Calculate an appropriate perplexity value (less than the number of samples)\n",
    "n_samples = embeddings_to_visualize.shape[0]\n",
    "perplexity_value = max(5, n_samples / 3)  # Example adjustment, ensuring perplexity is less than n_samples\n",
    "\n",
    "# Apply t-SNE with the adjusted perplexity\n",
    "tsne = TSNE(n_components=2, random_state=42, perplexity=perplexity_value)\n",
    "reduced_embeddings = tsne.fit_transform(embeddings_to_visualize)\n",
    "\n",
    "# Plotting code remains the same\n",
    "plt.figure(figsize=(10, 6))\n",
    "for i, word in enumerate(words_to_visualize):\n",
    "    if word in word_to_index:  # Check if word is actually in our selected subset\n",
    "        plt.scatter(reduced_embeddings[i, 0], reduced_embeddings[i, 1], label=word)\n",
    "\n",
    "plt.legend()\n",
    "plt.title('Word Embeddings Visualized with t-SNE for CBOW')\n",
    "plt.xlabel('t-SNE dimension 1')\n",
    "plt.ylabel('t-SNE dimension 2')\n",
    "plt.show()"
   ]
  },
  {
   "cell_type": "code",
   "execution_count": 36,
   "metadata": {},
   "outputs": [
    {
     "data": {
      "image/png": "[encoded data removed]",
      "text/plain": [
       "<Figure size 1000x600 with 1 Axes>"
      ]
     },
     "metadata": {},
     "output_type": "display_data"
    }
   ],
   "source": [
    "from sklearn.manifold import TSNE\n",
    "import matplotlib.pyplot as plt\n",
    "\n",
    "# Select a subset of word embeddings to visualize\n",
    "words_to_visualize = ['king', 'queen', 'man', 'woman', 'paris', 'france', 'apple', 'orange']\n",
    "indices_to_visualize = [word_to_index[word] for word in words_to_visualize if word in word_to_index]\n",
    "embeddings_to_visualize = skip_loaded_embeddings[indices_to_visualize]\n",
    "\n",
    "# Calculate an appropriate perplexity value (less than the number of samples)\n",
    "n_samples = embeddings_to_visualize.shape[0]\n",
    "perplexity_value = max(5, n_samples / 3)  # Example adjustment, ensuring perplexity is less than n_samples\n",
    "\n",
    "# Apply t-SNE with the adjusted perplexity\n",
    "tsne = TSNE(n_components=2, random_state=42, perplexity=perplexity_value)\n",
    "reduced_embeddings = tsne.fit_transform(embeddings_to_visualize)\n",
    "\n",
    "# Plotting code remains the same\n",
    "plt.figure(figsize=(10, 6))\n",
    "for i, word in enumerate(words_to_visualize):\n",
    "    if word in word_to_index:  # Check if word is actually in our selected subset\n",
    "        plt.scatter(reduced_embeddings[i, 0], reduced_embeddings[i, 1], label=word)\n",
    "\n",
    "plt.legend()\n",
    "plt.title('Word Embeddings Visualized with t-SNE for SKIP_Gram')\n",
    "plt.xlabel('t-SNE dimension 1')\n",
    "plt.ylabel('t-SNE dimension 2')\n",
    "plt.show()"
   ]
  },
  {
   "cell_type": "markdown",
   "metadata": {},
   "source": [
    "### Introduction to Word Embeddings, Skipgram, and CBOW\n",
    "\n",
    "Word embeddings are dense vector representations of words in a continuous vector space where semantically similar words are mapped to proximate points. They capture syntactic and semantic word relationships based on the context of each word in a corpus. Skipgram and Continuous Bag of Words (CBOW) are two popular models for learning word embeddings, introduced by Mikolov et al. in the Word2Vec paper.\n",
    "\n",
    "**Skipgram** aims to predict the context words for a given target word. It is particularly effective for learning high-quality representations for rare words.\n",
    "  \n",
    "- **CBOW**, in contrast, predicts a target word based on its context words. It is faster and slightly more accurate than Skipgram for frequent words.\n",
    "\n",
    "### Architecture of the Models\n",
    "\n",
    "Both models are implemented with a simple neural network architecture that includes an embedding layer and a linear layer.\n",
    "\n",
    "- **CBOW Model**: The input to the CBOW model is the context words, which are averaged before being passed through a linear layer to predict the target word. \n",
    "\n",
    "- **Skipgram Model**: The Skipgram model takes a target word as input and passes it through a linear layer to predict its context words. \n",
    "\n",
    "Both models use the negative log likelihood loss function, with CBOW trained using Stochastic Gradient Descent (SGD) and Skipgram using the Adam optimizer.\n",
    "\n",
    "### Dataset and Pre-processing Steps\n",
    "\n",
    "The dataset used for training these models is a subset of the text8 dataset, which is a cleaned and pre-processed version of the first 100MB of the English Wikipedia dump. Pre-processing steps included:\n",
    "\n",
    "- **Tokenization**: Splitting the text into individual words.\n",
    "- **Stopword Removal**: Eliminating common words that add little semantic value.\n",
    "- **Vocabulary Building**: Creating a list of unique words to form the vocabulary.\n",
    "- **Index Mapping**: Assigning each unique word an index and converting words in the context-target pairs to their respective indices.\n",
    "\n",
    "### Evaluation Results\n",
    "\n",
    "Evaluation focused on intrinsic methods, examining the cosine similarity between vectors of selected word pairs like ('king', 'queen'), ('man', 'woman'), and ('Paris', 'France'). Visualizations using t-SNE highlighted clusters of semantically similar words, demonstrating the models' ability to capture meaningful linguistic patterns.\n",
    "\n",
    "### Challenges and Potential Improvements\n",
    "\n",
    "- **Sparse Data**: Some words had few context words, leading to challenges in training. Filtering out instances with insufficient context helped mitigate this issue.\n",
    "  \n",
    "- **Hyperparameter Tuning**: Finding the optimal set of hyperparameters (e.g., embedding dimension, window size) required extensive experimentation.\n",
    "\n",
    "- **Computational Resources**: Training on large datasets demands significant computational resources. Training on subsets or using more efficient hardware could improve performance.\n",
    "\n",
    "### Conclusion\n",
    "\n",
    "The implemented CBOW and Skipgram models successfully learned meaningful word embeddings from the text8 dataset, demonstrating their capacity to capture semantic and syntactic word relationships. These embeddings have broad applications in natural language processing tasks, including sentiment analysis, named entity recognition, and machine translation. Future work could explore refining the models with larger datasets, implementing more sophisticated neural network architectures, and applying the embeddings to a wider range of NLP tasks. Potential improvements include exploring alternative optimization algorithms, experimenting with different architecture configurations, and incorporating subword information to better handle rare words."
   ]
  },
  {
   "cell_type": "code",
   "execution_count": null,
   "metadata": {},
   "outputs": [],
   "source": []
  }
 ],
 "metadata": {
  "kernelspec": {
   "display_name": "Python 3 (ipykernel)",
   "language": "python",
   "name": "python3"
  },
  "language_info": {
   "codemirror_mode": {
    "name": "ipython",
    "version": 3
   },
   "file_extension": ".py",
   "mimetype": "text/x-python",
   "name": "python",
   "nbconvert_exporter": "python",
   "pygments_lexer": "ipython3",
   "version": "3.9.13"
  }
 },
 "nbformat": 4,
 "nbformat_minor": 2
}
