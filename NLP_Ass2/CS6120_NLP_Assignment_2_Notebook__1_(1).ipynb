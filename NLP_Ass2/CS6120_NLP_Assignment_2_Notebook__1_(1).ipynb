{
  "cells": [
    {
      "cell_type": "markdown",
      "metadata": {
        "id": "ni4T_dwEHFVa"
      },
      "source": [
        "## CS 6120: Natural Language Processing - Prof. Ahmad Uzair\n",
        "\n",
        "### Assignment 2: Text Classification and Neural Network\n",
        "### Total Points: 100 points"
      ]
    },
    {
      "cell_type": "markdown",
      "metadata": {
        "id": "loQ22M-bCubq"
      },
      "source": [
        "In Assignment 2, you will be dealing with text classification using Multinomial Naive Bayes and Neural Networks. You will also be dealing with vector visualization.In this assignment you will be using TF-IDF Vectorization instead of Bag of Words. We recommend starting with this assignment a little early as the datasets are quite large and several parts of the assignment might take long duration to execute."
      ]
    },
    {
      "cell_type": "markdown",
      "metadata": {
        "id": "Q3brglC1C0mZ"
      },
      "source": [
        "## Question 1 Text Classification"
      ]
    },
    {
      "cell_type": "markdown",
      "metadata": {
        "id": "IZ1y75IoC3rE"
      },
      "source": [
        "In the first question you will be dealing with 20 News Group Dataset. You are required to implement TF-IDF vectorization from scratch and perform Multinomial Naive Bayes Classification on the News Group Dataset.\n",
        "You may use appropriate packages or modules for fitting the Multinomial Naive Bayes Model, however, the implementation of the TF-IDF Vectorization should be from the scratch."
      ]
    },
    {
      "cell_type": "markdown",
      "metadata": {
        "id": "yRjM45PyC8ML"
      },
      "source": [
        "The 20 newsgroups dataset comprises around 20000 newsgroups posts on 20 topics split in two subsets: one for training (or development) and the other one for testing (or for performance evaluation). The split between the train and test set is based upon a messages posted before and after a specific date.\n",
        "\n",
        "Link to the original dataset: http://archive.ics.uci.edu/ml/datasets/Twenty+Newsgroups\n",
        "\n",
        "You can also import the dataset from sklearn.datasets"
      ]
    },
    {
      "cell_type": "code",
      "execution_count": 1,
      "metadata": {
        "colab": {
          "base_uri": "https://localhost:8080/"
        },
        "id": "CmFf2INNDJRb",
        "outputId": "2e8fa9b7-a387-49d7-8efc-ebf81e993149"
      },
      "outputs": [
        {
          "name": "stderr",
          "output_type": "stream",
          "text": [
            "C:\\Users\\raghu\\AppData\\Local\\Temp\\ipykernel_48248\\4133866900.py:11: DeprecationWarning: \n",
            "Pyarrow will become a required dependency of pandas in the next major release of pandas (pandas 3.0),\n",
            "(to allow more performant data types, such as the Arrow string type, and better interoperability with other libraries)\n",
            "but was not found to be installed on your system.\n",
            "If this would cause problems for you,\n",
            "please provide us feedback at https://github.com/pandas-dev/pandas/issues/54466\n",
            "        \n",
            "  import pandas as pd\n",
            "[nltk_data] Downloading package punkt to\n",
            "[nltk_data]     C:\\Users\\raghu\\AppData\\Roaming\\nltk_data...\n",
            "[nltk_data]   Package punkt is already up-to-date!\n",
            "[nltk_data] Downloading package stopwords to\n",
            "[nltk_data]     C:\\Users\\raghu\\AppData\\Roaming\\nltk_data...\n",
            "[nltk_data]   Package stopwords is already up-to-date!\n"
          ]
        },
        {
          "data": {
            "text/plain": [
              "True"
            ]
          },
          "execution_count": 1,
          "metadata": {},
          "output_type": "execute_result"
        }
      ],
      "source": [
        "#importing the libraries\n",
        "\n",
        "import numpy as np\n",
        "import sklearn\n",
        "from sklearn.feature_extraction.text import TfidfVectorizer\n",
        "from sklearn.datasets import fetch_20newsgroups\n",
        "from pprint import pprint\n",
        "from sklearn.feature_extraction.text import CountVectorizer\n",
        "from sklearn.metrics import accuracy_score, classification_report\n",
        "from sklearn import preprocessing\n",
        "import pandas as pd\n",
        "import re\n",
        "import numpy as np\n",
        "from sklearn.naive_bayes import MultinomialNB\n",
        "from sklearn import metrics\n",
        "from nltk.tokenize import  word_tokenize\n",
        "from nltk.corpus import stopwords\n",
        "import nltk\n",
        "nltk.download('punkt')\n",
        "nltk.download('stopwords')\n"
      ]
    },
    {
      "cell_type": "code",
      "execution_count": 2,
      "metadata": {
        "id": "AEp1SHe5DKCB"
      },
      "outputs": [],
      "source": [
        "# Import the 20 news group dataset utilizing sklearn library\n",
        "\n",
        "mydata_train = fetch_20newsgroups(subset='train', shuffle=True, random_state=42)\n",
        "\n",
        "mydata_test = fetch_20newsgroups(subset='test', shuffle=True, random_state=42)\n"
      ]
    },
    {
      "cell_type": "code",
      "execution_count": 3,
      "metadata": {
        "colab": {
          "base_uri": "https://localhost:8080/"
        },
        "id": "OscOmcE0DMHa",
        "outputId": "d9d2818f-1734-4e50-bdcd-0bd22a2d96cc"
      },
      "outputs": [
        {
          "name": "stdout",
          "output_type": "stream",
          "text": [
            "['alt.atheism',\n",
            " 'comp.graphics',\n",
            " 'comp.os.ms-windows.misc',\n",
            " 'comp.sys.ibm.pc.hardware',\n",
            " 'comp.sys.mac.hardware',\n",
            " 'comp.windows.x',\n",
            " 'misc.forsale',\n",
            " 'rec.autos',\n",
            " 'rec.motorcycles',\n",
            " 'rec.sport.baseball',\n",
            " 'rec.sport.hockey',\n",
            " 'sci.crypt',\n",
            " 'sci.electronics',\n",
            " 'sci.med',\n",
            " 'sci.space',\n",
            " 'soc.religion.christian',\n",
            " 'talk.politics.guns',\n",
            " 'talk.politics.mideast',\n",
            " 'talk.politics.misc',\n",
            " 'talk.religion.misc']\n",
            "['alt.atheism',\n",
            " 'comp.graphics',\n",
            " 'comp.os.ms-windows.misc',\n",
            " 'comp.sys.ibm.pc.hardware',\n",
            " 'comp.sys.mac.hardware',\n",
            " 'comp.windows.x',\n",
            " 'misc.forsale',\n",
            " 'rec.autos',\n",
            " 'rec.motorcycles',\n",
            " 'rec.sport.baseball',\n",
            " 'rec.sport.hockey',\n",
            " 'sci.crypt',\n",
            " 'sci.electronics',\n",
            " 'sci.med',\n",
            " 'sci.space',\n",
            " 'soc.religion.christian',\n",
            " 'talk.politics.guns',\n",
            " 'talk.politics.mideast',\n",
            " 'talk.politics.misc',\n",
            " 'talk.religion.misc']\n"
          ]
        }
      ],
      "source": [
        "# Print the news groups(target) in the dataset\n",
        "\n",
        "pprint(list(mydata_train.target_names))\n",
        "pprint(list(mydata_test.target_names))"
      ]
    },
    {
      "cell_type": "code",
      "execution_count": 4,
      "metadata": {
        "colab": {
          "base_uri": "https://localhost:8080/"
        },
        "id": "JvQb2r0aDR_J",
        "outputId": "c8844133-52b9-43c8-b4c7-920d0204d447"
      },
      "outputs": [
        {
          "name": "stdout",
          "output_type": "stream",
          "text": [
            "<class 'sklearn.utils._bunch.Bunch'>\n",
            "<class 'sklearn.utils._bunch.Bunch'>\n"
          ]
        }
      ],
      "source": [
        "# What is the type of 'mydata_train' and 'mydata_test'\n",
        "\n",
        "print(type(mydata_train))\n",
        "print(type(mydata_test))"
      ]
    },
    {
      "cell_type": "code",
      "execution_count": 5,
      "metadata": {
        "colab": {
          "base_uri": "https://localhost:8080/"
        },
        "id": "ozzwyREhDaMK",
        "outputId": "84b194fe-f12c-428b-8b43-6ddbc50d799a"
      },
      "outputs": [
        {
          "name": "stdout",
          "output_type": "stream",
          "text": [
            "11314\n",
            "11314\n",
            "7532\n",
            "7532\n"
          ]
        }
      ],
      "source": [
        "# Check the length of the data\n",
        "\n",
        "print(len(mydata_train.data))\n",
        "print(len(mydata_train.filenames))\n",
        "print(len(mydata_test.data))\n",
        "print(len(mydata_test.filenames))"
      ]
    },
    {
      "cell_type": "markdown",
      "metadata": {
        "id": "BlipMuEpDz-K"
      },
      "source": [
        "### Expected Output:\n",
        "11314\n",
        "\n",
        "11314\n",
        "\n",
        "7532\n",
        "\n",
        "7532"
      ]
    },
    {
      "cell_type": "markdown",
      "metadata": {
        "id": "55FKOBBuEDI2"
      },
      "source": [
        "## Extracting Features from the Dataset                        (20 Points)"
      ]
    },
    {
      "cell_type": "markdown",
      "metadata": {
        "id": "u4GDENzmEEkG"
      },
      "source": [
        "In order to perform machine learning on text documents, we first need to turn the text content into numerical feature vectors."
      ]
    },
    {
      "cell_type": "markdown",
      "metadata": {
        "id": "OgxfDXmxEHid"
      },
      "source": [
        "### TF-IDF Vectorization"
      ]
    },
    {
      "cell_type": "markdown",
      "metadata": {
        "id": "Q8qNFFYyEKsa"
      },
      "source": [
        "Our model cannot simply read the text data so we convert it into numerical format. In order to convert the data into numerical format we create vectors from text.\n",
        "\n",
        "For this particular purpose we could either employ Bag of Words or TF-IDF Vectorization\n",
        "\n",
        "Bag of Words just creates a set of vectors containing the count of word occurrences in the document (reviews), while the TF-IDF model contains information on the more important words and the less important ones as well.\n",
        "\n",
        "TF-IDF stands for Term Frequency-Inverse Document Frequency, which instead of giving more weight to words that occur more frequently, it gives a higher weight to words that occur less frequently.\n",
        "\n",
        "Ref:https://www.analyticsvidhya.com/blog/2020/02/quick-introduction-bag-of-words-bow-tf-idf/#:~:text=Bag%20of%20Words%20just%20creates,less%20important%20ones%20as%20well."
      ]
    },
    {
      "cell_type": "markdown",
      "metadata": {
        "id": "dLzgRJRZEP3k"
      },
      "source": [
        "TF-IDF = Term Frequency (TF) * Inverse Document Frequency (IDF)"
      ]
    },
    {
      "cell_type": "markdown",
      "metadata": {
        "id": "xe5lHi3NE1QJ"
      },
      "source": [
        "Term Frequency is the measure of the frequency of words in a document. It is the ratio of the number of times the word appears in a document compared to the total number of words in that document.\n",
        "\n",
        "The words that occur rarely in the corpus have a high IDF score. It is the log of the ratio of the number of documents to the number of documents containing the word."
      ]
    },
    {
      "cell_type": "markdown",
      "metadata": {
        "id": "HXotAER_EQ8T"
      },
      "source": [
        "idf(t) = log(N/(df + 1))"
      ]
    },
    {
      "cell_type": "code",
      "execution_count": 6,
      "metadata": {
        "colab": {
          "base_uri": "https://localhost:8080/"
        },
        "id": "2vzVI8ylFAEl",
        "outputId": "1ed252d5-729e-4389-a01f-5e3400a69a33"
      },
      "outputs": [],
      "source": [
        "text = mydata_train.data\n",
        "test = mydata_test.data"
      ]
    },
    {
      "cell_type": "markdown",
      "metadata": {
        "id": "HZ2AatmvFtE-"
      },
      "source": [
        "## Preprocessing the Corpus"
      ]
    },
    {
      "cell_type": "code",
      "execution_count": 7,
      "metadata": {
        "colab": {
          "base_uri": "https://localhost:8080/"
        },
        "id": "XyJbe42AFuHp",
        "outputId": "5936bf98-6412-4ed1-ee92-62378c5937b5"
      },
      "outputs": [
        {
          "name": "stdout",
          "output_type": "stream",
          "text": [
            "Lines: [['from', 'lerxstwamumdedu', 'wheres', 'my', 'thing', 'subject', 'what', 'car', 'is', 'this', 'nntppostinghost', 'rac3wamumdedu', 'organization', 'university', 'of', 'maryland', 'college', 'park', 'lines', '15', 'i', 'was', 'wondering', 'if', 'anyone', 'out', 'there', 'could', 'enlighten', 'me', 'on', 'this', 'car', 'i', 'saw', 'the', 'other', 'day', 'it', 'was', 'a', '2door', 'sports', 'car', 'looked', 'to', 'be', 'from', 'the', 'late', '60s', 'early', '70s', 'it', 'was', 'called', 'a', 'bricklin', 'the', 'doors', 'were', 'really', 'small', 'in', 'addition', 'the', 'front', 'bumper', 'was', 'separate', 'from', 'the', 'rest', 'of', 'the', 'body', 'this', 'is', 'all', 'i', 'know', 'if', 'anyone', 'can', 'tellme', 'a', 'model', 'name', 'engine', 'specs', 'years', 'of', 'production', 'where', 'this', 'car', 'is', 'made', 'history', 'or', 'whatever', 'info', 'you', 'have', 'on', 'this', 'funky', 'looking', 'car', 'please', 'email', 'thanks', 'il', 'brought', 'to', 'you', 'by', 'your', 'neighborhood', 'lerxst'], ['from', 'guykuocarsonuwashingtonedu', 'guy', 'kuo', 'subject', 'si', 'clock', 'poll', 'final', 'call', 'summary', 'final', 'call', 'for', 'si', 'clock', 'reports', 'keywords', 'siaccelerationclockupgrade', 'articleid', 'shelley1qvfo9innc3s', 'organization', 'university', 'of', 'washington', 'lines', '11', 'nntppostinghost', 'carsonuwashingtonedu', 'a', 'fair', 'number', 'of', 'brave', 'souls', 'who', 'upgraded', 'their', 'si', 'clock', 'oscillator', 'have', 'shared', 'their', 'experiences', 'for', 'this', 'poll', 'please', 'send', 'a', 'brief', 'message', 'detailing', 'your', 'experiences', 'with', 'the', 'procedure', 'top', 'speed', 'attained', 'cpu', 'rated', 'speed', 'add', 'on', 'cards', 'and', 'adapters', 'heat', 'sinks', 'hour', 'of', 'usage', 'per', 'day', 'floppy', 'disk', 'functionality', 'with', '800', 'and', '14', 'm', 'floppies', 'are', 'especially', 'requested', 'i', 'will', 'be', 'summarizing', 'in', 'the', 'next', 'two', 'days', 'so', 'please', 'add', 'to', 'the', 'network', 'knowledge', 'base', 'if', 'you', 'have', 'done', 'the', 'clock', 'upgrade', 'and', 'havent', 'answered', 'this', 'poll', 'thanks', 'guy', 'kuo', 'guykuouwashingtonedu']]\n",
            "Word List: ['from', 'lerxstwamumdedu', 'wheres', 'my', 'thing', 'subject', 'what', 'car', 'is', 'this', 'nntppostinghost', 'rac3wamumdedu', 'organization', 'university', 'of', 'maryland', 'college', 'park', 'lines', '15']\n",
            "Total Documents: 11314\n",
            "Dictionary Index: [('from', 0), ('lerxstwamumdedu', 1), ('wheres', 2), ('my', 3), ('thing', 4), ('subject', 5), ('what', 6), ('car', 7), ('is', 8), ('this', 9), ('nntppostinghost', 10), ('rac3wamumdedu', 11), ('organization', 12), ('university', 13), ('of', 14), ('maryland', 15), ('college', 16), ('park', 17), ('lines', 18), ('15', 19)]\n"
          ]
        }
      ],
      "source": [
        "from collections import OrderedDict\n",
        "\n",
        "# Preprocessing the data\n",
        "lines = []\n",
        "word_list = []\n",
        "\n",
        "for line in text:\n",
        "    #tokenize the text documents and update the lists word_list and lines\n",
        "    # Remove non-alphanumeric characters for clean tokenization\n",
        "    line = re.sub(r'[^a-zA-Z0-9\\s]', '', line)\n",
        "    # Convert to lowercase to ensure uniformity\n",
        "    line = line.lower()\n",
        "    # Tokenize the text document\n",
        "    tokens = word_tokenize(line)\n",
        "    # Update the lines list with token lists\n",
        "    lines.append(tokens)\n",
        "    # Update the word_list with tokens\n",
        "    word_list.extend(tokens)\n",
        "\n",
        "\n",
        "# Make sure the word_list contains unique tokens\n",
        "word_list = list(OrderedDict.fromkeys(word_list))\n",
        "\n",
        "# Calculate the total documents present in the corpus\n",
        "total_docs = len(text)\n",
        "\n",
        "#Create a dictionary to keep track of index of each word\n",
        "dict_idx = {word: idx for idx, word in enumerate(word_list)}\n",
        "\n",
        "print(\"Lines:\", lines[:2])\n",
        "print(\"Word List:\", word_list[:20])\n",
        "print(\"Total Documents:\", total_docs)\n",
        "print(\"Dictionary Index:\", list(dict_idx.items())[:20])"
      ]
    },
    {
      "cell_type": "code",
      "execution_count": 8,
      "metadata": {},
      "outputs": [
        {
          "name": "stdout",
          "output_type": "stream",
          "text": [
            "Test Lines Sample: [['from', 'v064mb9kubvmsdccbuffaloedu', 'neil', 'b', 'gandler', 'subject', 'need', 'info', 'on', '8889', 'bonneville', 'organization', 'university', 'at', 'buffalo', 'lines', '10', 'newssoftware', 'vaxvms', 'vnews', '141', 'nntppostinghost', 'ubvmsdccbuffaloedu', 'i', 'am', 'a', 'little', 'confused', 'on', 'all', 'of', 'the', 'models', 'of', 'the', '8889', 'bonnevilles', 'i', 'have', 'heard', 'of', 'the', 'le', 'se', 'lse', 'sse', 'ssei', 'could', 'someone', 'tell', 'me', 'the', 'differences', 'are', 'far', 'as', 'features', 'or', 'performance', 'i', 'am', 'also', 'curious', 'to', 'know', 'what', 'the', 'book', 'value', 'is', 'for', 'prefereably', 'the', '89', 'model', 'and', 'how', 'much', 'less', 'than', 'book', 'value', 'can', 'you', 'usually', 'get', 'them', 'for', 'in', 'other', 'words', 'how', 'much', 'are', 'they', 'in', 'demand', 'this', 'time', 'of', 'year', 'i', 'have', 'heard', 'that', 'the', 'midspring', 'early', 'summer', 'is', 'the', 'best', 'time', 'to', 'buy', 'neil', 'gandler'], ['from', 'rick', 'miller', 'rickeeuwmedu', 'subject', 'xface', 'organization', 'just', 'me', 'lines', '17', 'distribution', 'world', 'nntppostinghost', '12989233', 'summary', 'go', 'ahead', 'swamp', 'me', 'eep', 'im', 'not', 'familiar', 'at', 'all', 'with', 'the', 'format', 'of', 'these', 'xface', 'thingies', 'but', 'after', 'seeing', 'them', 'in', 'some', 'folks', 'headers', 'ive', 'got', 'to', 'see', 'them', 'and', 'maybe', 'make', 'one', 'of', 'my', 'own', 'ive', 'got', 'dpgview', 'on', 'my', 'linux', 'box', 'which', 'displays', 'uncompressed', 'xfaces', 'and', 'ive', 'managed', 'to', 'compile', 'uncompface', 'too', 'but', 'now', 'that', 'im', 'looking', 'for', 'them', 'i', 'cant', 'seem', 'to', 'find', 'any', 'xfaces', 'in', 'anyones', 'news', 'headers', 'could', 'you', 'would', 'you', 'please', 'send', 'me', 'your', 'xface', 'header', 'i', 'know', 'ill', 'probably', 'get', 'a', 'little', 'swamped', 'but', 'i', 'can', 'handle', 'it', 'i', 'hope', 'rick', 'miller', 'rickeeuwmedu', 'ricxjodiscusmilwius', 'ricxjo', 'muelisto', 'send', 'a', 'postcard', 'get', 'one', 'back', 'enposxtigu', 'bildkarton', 'kaj', 'vi', 'ricevos', 'alion', 'rick', 'miller', '16203', 'woods', 'muskego', 'wis', '53150', 'usa']]\n",
            "Word List: ['from', 'v064mb9kubvmsdccbuffaloedu', 'neil', 'b', 'gandler', 'subject', 'need', 'info', 'on', '8889', 'bonneville', 'organization', 'university', 'at', 'buffalo', 'lines', '10', 'newssoftware', 'vaxvms', 'vnews']\n",
            "Total Documents: 7532\n"
          ]
        }
      ],
      "source": [
        "# Variable for test data\n",
        "test_lines = []  # This will store the tokenized version of each document in the test set\n",
        "test_word_list = []  # This will store all the tokens found in the test set, though you may not need this unless building a test-specific vocabulary\n",
        "\n",
        "for line in test:\n",
        "    # Preprocess and tokenize the text documents in the test set\n",
        "    line = re.sub(r'[^a-zA-Z0-9\\s]', '', line).lower()\n",
        "    tokens = word_tokenize(line)\n",
        "    test_lines.append(tokens)\n",
        "    test_word_list.extend(tokens)\n",
        "\n",
        "# If you need to ensure uniqueness within the test_word_list (though typically, you'd use the training set's vocabulary for vectorization):\n",
        "test_word_list = list(OrderedDict.fromkeys(test_word_list))\n",
        "\n",
        "\n",
        "# Calculate the total documents present in the corpus\n",
        "test_total_docs = len(test)\n",
        "\n",
        "\n",
        "print(\"Test Lines Sample:\", test_lines[:2])\n",
        "print(\"Word List:\", test_word_list[:20])\n",
        "print(\"Total Documents:\", test_total_docs)\n",
        "\n"
      ]
    },
    {
      "cell_type": "code",
      "execution_count": 9,
      "metadata": {
        "id": "E6M_CoI9FxYb"
      },
      "outputs": [],
      "source": [
        "# Create a frequency dictionary\n",
        "\n",
        "def frequency_dict(lines):\n",
        "    '''\n",
        "    lines: list containing all the tokens\n",
        "    ---\n",
        "    freq_word: returns a dictionary which keeps the count of the number of documents containing the given word\n",
        "    '''\n",
        "    freq_word = {}\n",
        "    for tokens in lines:\n",
        "        unique_tokens = set(tokens)  # Convert list of tokens to a set for uniqueness\n",
        "        for token in unique_tokens:\n",
        "            if token not in freq_word:\n",
        "                freq_word[token] = 1\n",
        "            else:\n",
        "                freq_word[token] += 1\n",
        "    return freq_word"
      ]
    },
    {
      "cell_type": "code",
      "execution_count": 10,
      "metadata": {
        "colab": {
          "base_uri": "https://localhost:8080/"
        },
        "id": "qFkt9KBgFz43",
        "outputId": "7162d5c8-5063-4d22-d46e-fa92e55353ed"
      },
      "outputs": [
        {
          "data": {
            "text/plain": [
              "{'front': 324,\n",
              " 'lerxstwamumdedu': 2,\n",
              " 'whatever': 402,\n",
              " 'i': 8941,\n",
              " 'rest': 428,\n",
              " 'of': 9882,\n",
              " 'maryland': 98,\n",
              " 'out': 3531,\n",
              " 'sports': 100,\n",
              " 'were': 2494,\n",
              " 'anyone': 2071,\n",
              " 'your': 3287,\n",
              " 'production': 101,\n",
              " 'called': 779,\n",
              " 'wheres': 20,\n",
              " '15': 880,\n",
              " 'lerxst': 2,\n",
              " 'late': 242,\n",
              " 'what': 4323,\n",
              " 'college': 517,\n",
              " 'looked': 272,\n",
              " 'a': 9871,\n",
              " 'really': 1598,\n",
              " 'funky': 7,\n",
              " '70s': 48,\n",
              " 'is': 8580,\n",
              " 'organization': 10862,\n",
              " 'doors': 64,\n",
              " 'could': 2309,\n",
              " 'can': 4799,\n",
              " 'addition': 210,\n",
              " 'please': 1662,\n",
              " 'be': 6428,\n",
              " 'early': 363,\n",
              " 'tellme': 2,\n",
              " 'enlighten': 27,\n",
              " 'if': 5821,\n",
              " 'separate': 176,\n",
              " 'all': 4373,\n",
              " 'made': 1099,\n",
              " 'small': 588,\n",
              " 'rac3wamumdedu': 6,\n",
              " 'it': 7764,\n",
              " 'years': 1337,\n",
              " 'know': 3283,\n",
              " 'in': 9445,\n",
              " 'subject': 11314,\n",
              " 'model': 297,\n",
              " 'to': 9865,\n",
              " 'lines': 11277,\n",
              " 'saw': 368,\n",
              " 'thing': 1193,\n",
              " 'bricklin': 4,\n",
              " 'university': 4428,\n",
              " 'me': 3857,\n",
              " 'from': 11314,\n",
              " 'where': 1806,\n",
              " 'car': 555,\n",
              " 'neighborhood': 30,\n",
              " 'thanks': 1720,\n",
              " 'have': 6687,\n",
              " 'specs': 108,\n",
              " 'other': 2846,\n",
              " 'my': 4447,\n",
              " 'day': 905,\n",
              " 'il': 113,\n",
              " 'looking': 823,\n",
              " 'park': 169,\n",
              " 'you': 6392,\n",
              " 'by': 4269,\n",
              " 'brought': 232,\n",
              " 'there': 4292,\n",
              " 'the': 10552,\n",
              " 'history': 391,\n",
              " 'info': 625,\n",
              " 'this': 6805,\n",
              " 'bumper': 28,\n",
              " '2door': 6,\n",
              " 'nntppostinghost': 4769,\n",
              " 'was': 4595,\n",
              " '60s': 44,\n",
              " 'name': 744,\n",
              " 'engine': 187,\n",
              " 'email': 1440,\n",
              " 'wondering': 294,\n",
              " 'on': 6846,\n",
              " 'body': 309,\n",
              " 'or': 5753,\n",
              " 'fair': 165,\n",
              " 'final': 252,\n",
              " 'si': 52,\n",
              " 'usage': 61,\n",
              " 'summarizing': 10,\n",
              " 'cards': 245,\n",
              " 'and': 9382,\n",
              " 'per': 330,\n",
              " 'oscillator': 17,\n",
              " 'adapters': 24,\n",
              " 'message': 717,\n",
              " 'clock': 168,\n",
              " 'guykuouwashingtonedu': 6,\n",
              " '14': 728,\n",
              " 'knowledge': 298,\n",
              " 'm': 503,\n",
              " 'with': 6358,\n",
              " 'their': 2469,\n",
              " 'poll': 31,\n",
              " 'reports': 218,\n",
              " '800': 108,\n",
              " 'especially': 475,\n",
              " 'hour': 95,\n",
              " 'are': 5942,\n",
              " 'top': 424,\n",
              " 'will': 3763,\n",
              " 'guy': 369,\n",
              " 'detailing': 18,\n",
              " 'summary': 535,\n",
              " 'upgraded': 40,\n",
              " 'procedure': 61,\n",
              " 'attained': 7,\n",
              " 'number': 915,\n",
              " 'shelley1qvfo9innc3s': 1,\n",
              " 'washington': 371,\n",
              " 'siaccelerationclockupgrade': 1,\n",
              " 'disk': 354,\n",
              " 'cpu': 117,\n",
              " 'brief': 68,\n",
              " 'done': 788,\n",
              " 'functionality': 38,\n",
              " 'guykuocarsonuwashingtonedu': 9,\n",
              " 'shared': 87,\n",
              " 'days': 566,\n",
              " 'answered': 91,\n",
              " 'experiences': 99,\n",
              " 'speed': 397,\n",
              " 'kuo': 16,\n",
              " 'requested': 56,\n",
              " 'carsonuwashingtonedu': 32,\n",
              " 'souls': 34,\n",
              " 'two': 1754,\n",
              " 'who': 3057,\n",
              " 'send': 646,\n",
              " 'brave': 37,\n",
              " 'floppy': 133,\n",
              " '11': 1038,\n",
              " 'havent': 429,\n",
              " 'articleid': 673,\n",
              " 'next': 812,\n",
              " 'for': 8264,\n",
              " 'sinks': 11,\n",
              " 'so': 4049,\n",
              " 'upgrade': 125,\n",
              " 'rated': 42,\n",
              " 'floppies': 36,\n",
              " 'add': 354,\n",
              " 'base': 243,\n",
              " 'heat': 93,\n",
              " 'keywords': 952,\n",
              " 'network': 394,\n",
              " 'call': 795,\n",
              " 'advance': 495,\n",
              " 'drops': 40,\n",
              " 'as': 5113,\n",
              " 'worth': 360,\n",
              " 'after': 1639,\n",
              " 'helpful': 119,\n",
              " 'lies': 114,\n",
              " 'w': 487,\n",
              " 'impression': 97,\n",
              " 'machines': 251,\n",
              " 'like': 3567,\n",
              " 'dont': 3290,\n",
              " 'figured': 64,\n",
              " '120': 99,\n",
              " 'weekend': 74,\n",
              " 'hellcats': 2,\n",
              " 'into': 1895,\n",
              " 'better': 1223,\n",
              " 'corner': 81,\n",
              " 'price': 500,\n",
              " 'opinions': 742,\n",
              " 'played': 187,\n",
              " 'store': 139,\n",
              " 'finals': 48,\n",
              " 'folks': 266,\n",
              " 'actually': 951,\n",
              " 'ill': 713,\n",
              " 'way': 2000,\n",
              " 'people': 2508,\n",
              " 'well': 2198,\n",
              " 'summer': 136,\n",
              " 'swing': 25,\n",
              " 'sooner': 49,\n",
              " 'dirt': 36,\n",
              " 'line': 686,\n",
              " 'about': 4222,\n",
              " 'solicit': 6,\n",
              " 'plus': 331,\n",
              " 'appearence': 2,\n",
              " 'enemies': 40,\n",
              " 'usa': 1593,\n",
              " 'bunch': 195,\n",
              " 'duos': 9,\n",
              " 'money': 529,\n",
              " 'at': 4927,\n",
              " '512k': 21,\n",
              " 'rumors': 42,\n",
              " 'question': 1307,\n",
              " 'display': 279,\n",
              " 'up': 2933,\n",
              " 'only': 2995,\n",
              " 'gave': 272,\n",
              " 'does': 2655,\n",
              " 'reading': 427,\n",
              " 'distribution': 2632,\n",
              " '160': 41,\n",
              " 'make': 1969,\n",
              " '80mb': 11,\n",
              " 'maybe': 798,\n",
              " 'but': 5791,\n",
              " 'recently': 406,\n",
              " 'might': 1327,\n",
              " 'mac': 341,\n",
              " 'introductions': 1,\n",
              " 'size': 333,\n",
              " 'computer': 1507,\n",
              " 'intended': 188,\n",
              " 'daytoday': 12,\n",
              " 'uses': 401,\n",
              " 'e': 435,\n",
              " 'engineering': 552,\n",
              " '180': 27,\n",
              " 'purdue': 89,\n",
              " 'new': 2190,\n",
              " 'realize': 232,\n",
              " 'machine': 434,\n",
              " 'pb': 26,\n",
              " 'willis': 17,\n",
              " 'any': 4140,\n",
              " 'sooo': 5,\n",
              " 'probably': 1067,\n",
              " 'heard': 724,\n",
              " 'f': 258,\n",
              " 'went': 405,\n",
              " 'truth': 317,\n",
              " 'id': 1040,\n",
              " 'bit': 793,\n",
              " 'questions': 585,\n",
              " 'get': 3017,\n",
              " 'some': 3523,\n",
              " 'premium': 23,\n",
              " 'hit': 317,\n",
              " 'time': 2331,\n",
              " 'how': 3063,\n",
              " 'great': 960,\n",
              " 'has': 3885,\n",
              " 'thomas': 275,\n",
              " '36': 209,\n",
              " 'perform': 101,\n",
              " 'that': 7897,\n",
              " 'real': 902,\n",
              " 'convictions': 30,\n",
              " 'expected': 199,\n",
              " 'answer': 532,\n",
              " 'daily': 123,\n",
              " '185c': 1,\n",
              " 'back': 1365,\n",
              " 'looks': 397,\n",
              " 'somebody': 265,\n",
              " 'hopefully': 117,\n",
              " 'when': 3075,\n",
              " 'its': 3270,\n",
              " 'feel': 522,\n",
              " 'prove': 224,\n",
              " '1985': 50,\n",
              " 'im': 2515,\n",
              " 'whats': 410,\n",
              " 'twillisececnpurdueedu': 1,\n",
              " 'tom': 255,\n",
              " 'access': 682,\n",
              " 'just': 3484,\n",
              " 'subjective': 49,\n",
              " 'round': 155,\n",
              " 'powerbook': 48,\n",
              " 'much': 1969,\n",
              " 'around': 1044,\n",
              " 'nietzsche': 12,\n",
              " 'life': 682,\n",
              " 'use': 2190,\n",
              " 'ive': 1318,\n",
              " 'supposed': 275,\n",
              " 'anymore': 140,\n",
              " 'rather': 869,\n",
              " 'yea': 20,\n",
              " 'news': 586,\n",
              " 'since': 1518,\n",
              " 'post': 862,\n",
              " 'got': 1255,\n",
              " 'an': 4658,\n",
              " 'breifly': 3,\n",
              " 'more': 3177,\n",
              " 'picking': 45,\n",
              " 'good': 2306,\n",
              " 'market': 226,\n",
              " 'anybody': 557,\n",
              " 'electrical': 160,\n",
              " 'dangerous': 177,\n",
              " 'taking': 359,\n",
              " 'ones': 495,\n",
              " 'ghost': 21,\n",
              " 'starting': 205,\n",
              " 'had': 2350,\n",
              " 'macleak': 2,\n",
              " 'active': 116,\n",
              " 'than': 2697,\n",
              " 'through': 1077,\n",
              " 'finally': 301,\n",
              " 'twillisecnpurdueedu': 1,\n",
              " 'wow': 59,\n",
              " 'xnewsreader': 625,\n",
              " 'robrjckuucp': 5,\n",
              " 'humor': 53,\n",
              " 'pl9': 100,\n",
              " 'quadrilateral': 2,\n",
              " 'pretty': 652,\n",
              " 'fill': 83,\n",
              " 'harris': 50,\n",
              " 'stuff': 565,\n",
              " 'command': 187,\n",
              " 'wrote': 808,\n",
              " 'abraxisiastateedu': 2,\n",
              " 'goes': 456,\n",
              " 'person': 661,\n",
              " 'corporation': 403,\n",
              " 'article': 4910,\n",
              " 'far': 951,\n",
              " 'do': 4151,\n",
              " 'information': 1024,\n",
              " 'green': 162,\n",
              " 'jgreencsdharriscom': 1,\n",
              " 'world': 1819,\n",
              " 'weiteks': 2,\n",
              " 'four': 346,\n",
              " 're': 7471,\n",
              " 'version': 880,\n",
              " 'nice': 499,\n",
              " 'jgreenamber': 2,\n",
              " 'scares': 15,\n",
              " 'tin': 518,\n",
              " 'abraxis734340159class1iastateedu': 2,\n",
              " 'requires': 191,\n",
              " 'p9000': 11,\n",
              " 'amberssdcsdharriscom': 2,\n",
              " 'writes': 5751,\n",
              " 'addressphone': 5,\n",
              " 'chip': 485,\n",
              " 'winters': 7,\n",
              " 'division': 381,\n",
              " 'kyanko': 5,\n",
              " 'graphics': 385,\n",
              " 'joe': 211,\n",
              " 'robert': 490,\n",
              " 'jonathan': 94,\n",
              " 'lowlevel': 12,\n",
              " 'points': 302,\n",
              " 'sense': 431,\n",
              " 'no': 3713,\n",
              " 'systems': 815,\n",
              " 'jc': 16,\n",
              " 'weitek': 13,\n",
              " 'before': 1356,\n",
              " 'possibly': 252,\n",
              " 'baker': 35,\n",
              " 'quote': 196,\n",
              " 'pack': 76,\n",
              " 'ma': 363,\n",
              " 'introduce': 37,\n",
              " 'cambridge': 183,\n",
              " 'they': 4291,\n",
              " 'things': 1204,\n",
              " 'errors': 163,\n",
              " 'mcdowell': 15,\n",
              " 'till': 70,\n",
              " 'arent': 403,\n",
              " 'ignore': 116,\n",
              " 'rat': 31,\n",
              " 'crew': 50,\n",
              " 'software': 760,\n",
              " 'we': 2754,\n",
              " 'shuttle': 95,\n",
              " 'understanding': 210,\n",
              " 'error': 272,\n",
              " 'suchlike': 4,\n",
              " 'c5jlwx4h91cscmuedu': 3,\n",
              " 'verify': 45,\n",
              " 'fix': 152,\n",
              " 'already': 658,\n",
              " 'launch': 125,\n",
              " 'ok': 440,\n",
              " 'am': 2271,\n",
              " 'see': 1916,\n",
              " 'jcmheadcfaharvardedu': 2,\n",
              " 'etratttacs1ttuedu': 4,\n",
              " 'warning': 121,\n",
              " 'bugs': 71,\n",
              " 'right': 1623,\n",
              " 'curious': 148,\n",
              " 'yet': 776,\n",
              " 'because': 1936,\n",
              " 'meaning': 209,\n",
              " 'tell': 1000,\n",
              " 'caution': 23,\n",
              " 'code': 485,\n",
              " 'dumb': 70,\n",
              " 'astrophysical': 9,\n",
              " 'waivered': 2,\n",
              " '23': 469,\n",
              " 'values': 163,\n",
              " 'checked': 117,\n",
              " 'liftoff': 10,\n",
              " 'set': 787,\n",
              " 'basically': 234,\n",
              " 'observatory': 44,\n",
              " '213': 32,\n",
              " 'known': 456,\n",
              " 'previously': 114,\n",
              " 'sci': 144,\n",
              " 'c5owcbn3pworldstdcom': 1,\n",
              " 'sorry': 493,\n",
              " 'clear': 398,\n",
              " 'memory': 428,\n",
              " 'conditions': 122,\n",
              " 'tombakerworldstdcom': 2,\n",
              " 'yes': 761,\n",
              " 'knew': 225,\n",
              " 'unexpected': 17,\n",
              " 'smithsonian': 10,\n",
              " 'system': 1309,\n",
              " 'parity': 25,\n",
              " 'blank': 50,\n",
              " 'reasonable': 275,\n",
              " 'another': 1261,\n",
              " 'hard': 775,\n",
              " 'youre': 781,\n",
              " 'find': 1353,\n",
              " 'tavares': 56,\n",
              " 'second': 765,\n",
              " 'needless': 37,\n",
              " 'douglas': 145,\n",
              " 'modern': 208,\n",
              " 'c': 829,\n",
              " 'jrutledgcsulowelledu': 12,\n",
              " 'these': 2164,\n",
              " 'many': 1763,\n",
              " 'sweeper': 7,\n",
              " 'reduced': 81,\n",
              " 'consider': 489,\n",
              " 'rigidly': 2,\n",
              " 'immediately': 157,\n",
              " 'thousands': 155,\n",
              " 'putting': 211,\n",
              " 'should': 2131,\n",
              " 'count': 175,\n",
              " 'keeping': 179,\n",
              " 'switching': 53,\n",
              " 'understood': 93,\n",
              " '1r1eu14ttransferstratuscom': 1,\n",
              " 'rutledge': 13,\n",
              " 'each': 869,\n",
              " 'then': 2304,\n",
              " 'destructive': 23,\n",
              " '58': 93,\n",
              " 'later': 480,\n",
              " 'makes': 689,\n",
              " 'control': 589,\n",
              " 'need': 1690,\n",
              " 'cdtrocketswstratuscom': 32,\n",
              " 'us': 1672,\n",
              " 'result': 339,\n",
              " 'packet': 74,\n",
              " 'first': 1768,\n",
              " 'she': 377,\n",
              " 'rifles': 38,\n",
              " 'hisher': 42,\n",
              " 'commonly': 61,\n",
              " 'argument': 331,\n",
              " 'crimial': 2,\n",
              " 'even': 2138,\n",
              " 'sarah': 16,\n",
              " 'follows': 171,\n",
              " 'would': 4316,\n",
              " 'massive': 74,\n",
              " 'lawrence': 129,\n",
              " 'deaths': 82,\n",
              " 'brady': 25,\n",
              " 'street': 211,\n",
              " 'shotguns': 22,\n",
              " 'cbw': 3,\n",
              " 'ideas': 302,\n",
              " 'nerve': 32,\n",
              " 'topics': 58,\n",
              " 'evidently': 23,\n",
              " 'using': 1270,\n",
              " 'mass': 184,\n",
              " 'individuals': 187,\n",
              " 'allegedly': 22,\n",
              " 'amendment': 142,\n",
              " 'sign': 153,\n",
              " 'believe': 1259,\n",
              " 'investors': 40,\n",
              " 'given': 673,\n",
              " 'point': 1243,\n",
              " 'he': 2144,\n",
              " 'c5n3gif8fulowellulowelledu': 2,\n",
              " 'says': 865,\n",
              " 'checks': 41,\n",
              " 'must': 1170,\n",
              " 'property': 130,\n",
              " '1qv87v4j3transferstratuscom': 2,\n",
              " 'hope': 639,\n",
              " 'year': 975,\n",
              " 'john': 811,\n",
              " 'means': 684,\n",
              " 'rewording': 7,\n",
              " 'every': 1006,\n",
              " 'own': 1199,\n",
              " 'course': 1010,\n",
              " 'restrictions': 79,\n",
              " 'individual': 250,\n",
              " 'nukes': 9,\n",
              " 'company': 435,\n",
              " 'her': 375,\n",
              " 'stating': 54,\n",
              " 'agree': 559,\n",
              " 'coming': 346,\n",
              " 'disagree': 154,\n",
              " 'gas': 206,\n",
              " 'analysis': 150,\n",
              " 'bear': 141,\n",
              " 'mean': 829,\n",
              " 'vtt': 2,\n",
              " 'cdtvosstratuscom': 32,\n",
              " 'read': 1139,\n",
              " 'write': 440,\n",
              " 'accidental': 30,\n",
              " 'easily': 302,\n",
              " 'd': 500,\n",
              " 'sks': 7,\n",
              " 'doubt': 323,\n",
              " 'doug': 180,\n",
              " 'biological': 31,\n",
              " 'douglasfoxvogvttfi': 3,\n",
              " 'presenting': 30,\n",
              " 'millions': 116,\n",
              " 'show': 542,\n",
              " 'cdtswstratuscom': 53,\n",
              " 'defined': 146,\n",
              " 'hands': 203,\n",
              " 'killed': 296,\n",
              " 'bill': 501,\n",
              " 'special': 330,\n",
              " 'support': 734,\n",
              " 'neighbors': 64,\n",
              " 'term': 212,\n",
              " 'destruction': 50,\n",
              " 'nuclear': 111,\n",
              " 'government': 759,\n",
              " 'allowed': 248,\n",
              " 'dfovttoulutkovttfi': 5,\n",
              " 'keep': 802,\n",
              " 'speak': 298,\n",
              " 'semiautomatic': 15,\n",
              " 'nonexistant': 10,\n",
              " 'handguns': 65,\n",
              " 'class': 239,\n",
              " 'not': 6235,\n",
              " '1993apr2008305716899ousrvroulufi': 3,\n",
              " 'foxvog': 5,\n",
              " 'today': 638,\n",
              " 'cost': 445,\n",
              " 'say': 1708,\n",
              " 'weapons': 215,\n",
              " 'power': 794,\n",
              " 'them': 2562,\n",
              " 'everyone': 532,\n",
              " 'few': 1164,\n",
              " 'rm': 71,\n",
              " 'file': 541,\n",
              " 'sure': 1294,\n",
              " 'bmdelanequadsuchicagoedu': 4,\n",
              " 'last': 1290,\n",
              " 'brain': 152,\n",
              " 'chicago': 280,\n",
              " 'publicly': 76,\n",
              " 'delete': 52,\n",
              " 'sharon': 19,\n",
              " 'manning': 14,\n",
              " 'brian': 276,\n",
              " 'sean': 65,\n",
              " 'september': 44,\n",
              " 'thank': 316,\n",
              " 'mailbouncing': 1,\n",
              " 'glad': 117,\n",
              " 'probs': 6,\n",
              " 'rn': 15,\n",
              " 'delaney': 5,\n",
              " 'debra': 3,\n",
              " 'responded': 67,\n",
              " 'trying': 781,\n",
              " 'directly': 281,\n",
              " 'accidentally': 24,\n",
              " 'couldnt': 311,\n",
              " 'instead': 530,\n",
              " 'whom': 182,\n",
              " 'treatment': 143,\n",
              " 'bmdelanemidwayuchicagoedu': 5,\n",
              " '12': 825,\n",
              " 'thought': 809,\n",
              " 'request': 245,\n",
              " 'astrocytomas': 1,\n",
              " 'replyto': 1731,\n",
              " 'tumor': 7,\n",
              " 'hmmm': 82,\n",
              " 'fasst': 6,\n",
              " '46mbs': 8,\n",
              " 'nm': 26,\n",
              " 'shows': 232,\n",
              " 'slam': 12,\n",
              " 'v8': 19,\n",
              " 'convince': 110,\n",
              " 'numbers': 378,\n",
              " '199329': 7,\n",
              " 'seems': 1038,\n",
              " '16bitwide': 3,\n",
              " 'txt': 3,\n",
              " '10mbs': 9,\n",
              " 'said': 1304,\n",
              " 'fast': 377,\n",
              " 'versions': 138,\n",
              " 'bgrubbdantenmsuedu': 21,\n",
              " '83': 70,\n",
              " 'magazine': 168,\n",
              " 'digital': 213,\n",
              " 'one': 4270,\n",
              " 'problems': 753,\n",
              " '1520mbs': 7,\n",
              " 'twice': 133,\n",
              " 'ide': 116,\n",
              " 'too': 1637,\n",
              " 'faster': 226,\n",
              " 'pc': 348,\n",
              " 'love': 457,\n",
              " 'actual': 195,\n",
              " 'interface': 181,\n",
              " 'stalled': 9,\n",
              " '1991': 143,\n",
              " 'true': 873,\n",
              " '083mbs': 6,\n",
              " 'note': 592,\n",
              " 'controler': 14,\n",
              " 'reference': 280,\n",
              " 'scsiii': 5,\n",
              " 'nonstandard': 19,\n",
              " 'going': 1310,\n",
              " 'n33': 3,\n",
              " '7': 653,\n",
              " 'those': 1847,\n",
              " 'devices': 178,\n",
              " 'mode': 270,\n",
              " 'installation': 82,\n",
              " '32bitwide': 5,\n",
              " 'been': 2553,\n",
              " 'performance': 273,\n",
              " 'macibmcompareversion': 2,\n",
              " 'ansynchronous': 2,\n",
              " 'slower': 87,\n",
              " 'quadras': 17,\n",
              " 'salesperson': 7,\n",
              " 'ftp': 265,\n",
              " 'sumexaimstanfordedu': 11,\n",
              " 'list': 618,\n",
              " 'statement': 342,\n",
              " 'oct': 24,\n",
              " 'las': 27,\n",
              " 'long': 1051,\n",
              " 'understand': 543,\n",
              " 'range': 209,\n",
              " 'data': 649,\n",
              " 'such': 1701,\n",
              " 'ranges': 24,\n",
              " 'indeed': 273,\n",
              " 'correct': 452,\n",
              " 'facts': 192,\n",
              " 'absurd': 54,\n",
              " 'ibm': 259,\n",
              " 'reach': 131,\n",
              " 'documented': 41,\n",
              " '040mbs': 4,\n",
              " 'writers': 53,\n",
              " '44': 203,\n",
              " 'scsi1': 16,\n",
              " 'inconsiant': 2,\n",
              " 'apple': 247,\n",
              " 'think': 2687,\n",
              " 'dxb132psuvmpsuedu': 6,\n",
              " 'newsgroup': 268,\n",
              " 'though': 954,\n",
              " 'statements': 148,\n",
              " 'burst': 31,\n",
              " 'sheet': 79,\n",
              " 'available': 788,\n",
              " 'state': 1218,\n",
              " 'always': 784,\n",
              " '27': 381,\n",
              " 'mexico': 66,\n",
              " 'still': 1479,\n",
              " 'may': 1786,\n",
              " '8bit': 60,\n",
              " 'exist': 305,\n",
              " 'part': 965,\n",
              " 'which': 3022,\n",
              " 'dantenmsuedu': 10,\n",
              " 'posted': 398,\n",
              " '125mbs': 7,\n",
              " 'go': 1600,\n",
              " 'problem': 1369,\n",
              " 'esdi': 23,\n",
              " 'headaches': 27,\n",
              " 'scsii': 5,\n",
              " 'infomacreport': 4,\n",
              " 'scsi': 173,\n",
              " '1qlbrlinn7rkdns1nmsuedu': 4,\n",
              " 'review': 154,\n",
              " 'increase': 172,\n",
              " 'driven': 104,\n",
              " '996': 7,\n",
              " '05mbs': 7,\n",
              " '812mbs': 7,\n",
              " 'stupid': 264,\n",
              " 'scsi2': 22,\n",
              " 'grubb': 22,\n",
              " 'controller': 179,\n",
              " '173': 13,\n",
              " 'maximum': 94,\n",
              " 'p81': 3,\n",
              " '40mbs': 7,\n",
              " 'incompatability': 6,\n",
              " 'cruces': 11,\n",
              " 'april': 412,\n",
              " '364406': 5,\n",
              " '21': 599,\n",
              " '20mbs': 8,\n",
              " '161': 22,\n",
              " '8bitscsi1': 2,\n",
              " 'synchronous': 16,\n",
              " '6mbs': 3,\n",
              " 'acceptance': 65,\n",
              " 'although': 494,\n",
              " 'vs': 369,\n",
              " 'quadra': 93,\n",
              " 'both': 1184,\n",
              " '5mbs': 10,\n",
              " '20': 921,\n",
              " 'change': 544,\n",
              " 'several': 684,\n",
              " 'northern': 85,\n",
              " 'bmps': 4,\n",
              " 'holmes7000iscsvaxuniedu': 1,\n",
              " 'figure': 306,\n",
              " 'wallpaper': 14,\n",
              " 'icons': 36,\n",
              " 'brando': 1,\n",
              " 'iowa': 81,\n",
              " 'downloaded': 29,\n",
              " 'win': 420,\n",
              " 'cant': 1354,\n",
              " 'appreciated': 392,\n",
              " 'thanx': 100,\n",
              " '30': 685,\n",
              " 'ps': 239,\n",
              " 'icon': 44,\n",
              " 'help': 1331,\n",
              " '10': 969,\n",
              " 'freeware': 18,\n",
              " 'decompress': 3,\n",
              " 'boardcompressed': 1,\n",
              " 'licensing': 40,\n",
              " 'dd': 26,\n",
              " '29': 340,\n",
              " 'communications': 386,\n",
              " 'something': 1545,\n",
              " 'however': 1056,\n",
              " 'hey': 241,\n",
              " 'also': 2567,\n",
              " 'boards': 81,\n",
              " 'reluctant': 16,\n",
              " '2173335217': 2,\n",
              " 'over': 1510,\n",
              " 'reappears': 4,\n",
              " 'sigma': 8,\n",
              " 'diskdoubler': 1,\n",
              " 'kerrux1csouiucedu': 3,\n",
              " 'related': 247,\n",
              " 'utility': 94,\n",
              " 'fixed': 136,\n",
              " 'stacs': 1,\n",
              " 'recompress': 2,\n",
              " 'lost': 345,\n",
              " 'owners': 162,\n",
              " 'ux1c52u8xb62': 1,\n",
              " 'illinois': 268,\n",
              " 'services': 468,\n",
              " 'without': 1201,\n",
              " 'buy': 565,\n",
              " 'stankerruiucedu': 2,\n",
              " 'hardware': 346,\n",
              " 'office': 366,\n",
              " 'being': 1612,\n",
              " 'double': 129,\n",
              " 'now': 2145,\n",
              " 'installed': 213,\n",
              " 'illinoisurbana': 5,\n",
              " 'stac': 2,\n",
              " 'autodoublerdiskdoubler': 1,\n",
              " 'pellettiere': 2,\n",
              " 'mentioned': 358,\n",
              " 'else': 865,\n",
              " 'stan': 49,\n",
              " 'holes': 89,\n",
              " 'designs': 52,\n",
              " 'fault': 154,\n",
              " 'joseph': 171,\n",
              " 'autodoubler': 2,\n",
              " 'kerr': 15,\n",
              " 'works': 590,\n",
              " 'sad': 99,\n",
              " 'computing': 344,\n",
              " 'phone': 651,\n",
              " 'wrong': 792,\n",
              " 'u': 376,\n",
              " 'due': 390,\n",
              " 'thats': 1084,\n",
              " 'troubled': 7,\n",
              " 'urbana': 154,\n",
              " 'unless': 526,\n",
              " 'very': 2026,\n",
              " 'theyre': 403,\n",
              " 'technologies': 107,\n",
              " 'writing': 210,\n",
              " 'whether': 647,\n",
              " 'board': 327,\n",
              " 'work': 1534,\n",
              " 'expand': 58,\n",
              " 'technology': 745,\n",
              " 'stinky': 1,\n",
              " 'jap10pocwruedu': 2,\n",
              " 'expansion': 134,\n",
              " 'unlikely': 112,\n",
              " 'usually': 441,\n",
              " 'above': 734,\n",
              " 'competition': 54,\n",
              " 'compression': 80,\n",
              " 'product': 241,\n",
              " 'want': 1738,\n",
              " 'sat': 84,\n",
              " 'leaks': 17,\n",
              " '1st': 132,\n",
              " 'tuba': 4,\n",
              " 'expires': 121,\n",
              " 'paint': 78,\n",
              " 'ducati': 22,\n",
              " 'thinking': 365,\n",
              " '1978': 36,\n",
              " '1': 1752,\n",
              " 'tx': 175,\n",
              " 'pops': 26,\n",
              " 'leak': 22,\n",
              " 'irwincmptrclonestarorg': 4,\n",
              " 'accel': 6,\n",
              " 'motors': 27,\n",
              " 'stable': 63,\n",
              " 'gts': 5,\n",
              " 'computrac': 6,\n",
              " 'mate': 7,\n",
              " 'myself': 411,\n",
              " 'arnstein': 5,\n",
              " 'oil': 114,\n",
              " 'dod': 330,\n",
              " 'runs': 289,\n",
              " 'axis': 27,\n",
              " 'duc': 11,\n",
              " '1993': 791,\n",
              " 'faded': 5,\n",
              " '900gts': 1,\n",
              " '13': 606,\n",
              " 'beemer': 10,\n",
              " 'trans': 16,\n",
              " 'recommendation': 22,\n",
              " 'gmt': 490,\n",
              " 'therefore': 365,\n",
              " '0826': 4,\n",
              " 'jap': 7,\n",
              " 'bronzebrownorange': 1,\n",
              " 'shop': 84,\n",
              " '050000': 5,\n",
              " 'honk': 7,\n",
              " 'r756': 5,\n",
              " 'irwin': 6,\n",
              " 'sold': 184,\n",
              " 'bike': 272,\n",
              " 'computracrichardsontx': 4,\n",
              " '17k': 1,\n",
              " '3k': 3,\n",
              " 'inc': 893,\n",
              " 'richardson': 51,\n",
              " '3495': 2,\n",
              " 'owner': 125,\n",
              " 'boundaries': 26,\n",
              " 'pressed': 36,\n",
              " 'wants': 314,\n",
              " 'recorded': 45,\n",
              " 'child': 184,\n",
              " 'animals': 97,\n",
              " 'bold': 21,\n",
              " 'previous': 360,\n",
              " 'posting': 502,\n",
              " 'jesus': 357,\n",
              " 'his': 1782,\n",
              " 'again': 992,\n",
              " 'end': 804,\n",
              " 'covenant': 19,\n",
              " 'shaky': 12,\n",
              " 'ericsson': 25,\n",
              " 'founded': 50,\n",
              " 'youve': 243,\n",
              " 'talmud': 3,\n",
              " 'speculate': 31,\n",
              " 'older': 136,\n",
              " 'committed': 139,\n",
              " 'sadducees': 2,\n",
              " 'wrongness': 4,\n",
              " 'live': 552,\n",
              " 'follow': 273,\n",
              " 'subjectiveness': 2,\n",
              " 'quite': 762,\n",
              " 'jew': 68,\n",
              " 'between': 1080,\n",
              " 'explaining': 43,\n",
              " 'biblical': 126,\n",
              " 'revelation': 58,\n",
              " 'script': 33,\n",
              " 'davidterminusericssonse': 5,\n",
              " 'comtemporary': 1,\n",
              " 'inappropriate': 24,\n",
              " 'outside': 298,\n",
              " 'unknowable': 6,\n",
              " 'decide': 180,\n",
              " 'swears': 7,\n",
              " 'conclusion': 145,\n",
              " 'christianity': 201,\n",
              " 'essence': 40,\n",
              " 'interpret': 63,\n",
              " 'here': 1737,\n",
              " 'clearness': 4,\n",
              " 'overlooked': 12,\n",
              " 'relationship': 110,\n",
              " 'initially': 43,\n",
              " 'moral': 205,\n",
              " 'comes': 562,\n",
              " 'incidentally': 28,\n",
              " 'look': 1109,\n",
              " 'unashamedly': 1,\n",
              " 'bangkok': 4,\n",
              " 'david': 923,\n",
              " 'directive': 16,\n",
              " 'judaism': 38,\n",
              " 'narratives': 5,\n",
              " 'followers': 70,\n",
              " 'bible': 321,\n",
              " 'gist': 8,\n",
              " 'assume': 366,\n",
              " 'abraham': 25,\n",
              " 'england': 113,\n",
              " 'type': 404,\n",
              " 'until': 663,\n",
              " 'secondhand': 18,\n",
              " 'nuances': 6,\n",
              " 'camtec': 4,\n",
              " 'mankind': 45,\n",
              " 'learns': 10,\n",
              " 'undoubtably': 5,\n",
              " 'torah': 16,\n",
              " 'interpretation': 114,\n",
              " 'disobeys': 2,\n",
              " 'references': 172,\n",
              " 'attempt': 215,\n",
              " 'considers': 31,\n",
              " 'aside': 123,\n",
              " 'trooper': 6,\n",
              " 'indicate': 89,\n",
              " ...}"
            ]
          },
          "execution_count": 10,
          "metadata": {},
          "output_type": "execute_result"
        }
      ],
      "source": [
        "# Create a dictionary containing the frequency of words utilizing the 'frequency_dict' function\n",
        "\n",
        "# Expect this chunk to take a comparatively longer time to execute since our dataset is large\n",
        "\n",
        "freq_word = frequency_dict(lines)\n",
        "freq_word"
      ]
    },
    {
      "cell_type": "code",
      "execution_count": 11,
      "metadata": {
        "id": "vLvPijR_GKHn"
      },
      "outputs": [],
      "source": [
        "# Create a function to calculate the Term Frequency\n",
        "\n",
        "def term_frequency(document, word):\n",
        "    '''\n",
        "    document: list containing the entire corpus\n",
        "    word: word whose term frequency is to be calculated\n",
        "    ---\n",
        "    tf: returns term frequency value\n",
        "    '''\n",
        "    word_count = document.count(word)\n",
        "    # Calculate total number of words in the document\n",
        "    # print('Number of times the word appears in the document:'+ str(word_count))\n",
        "    total_words = len(document)\n",
        "    # Calculate term frequency\n",
        "    # print('Total number of words in the document:'+ str(total_words))\n",
        "    tf = word_count / total_words if total_words > 0 else 0\n",
        "\n",
        "    return tf"
      ]
    },
    {
      "cell_type": "code",
      "execution_count": 12,
      "metadata": {
        "colab": {
          "base_uri": "https://localhost:8080/"
        },
        "id": "AnDOPkW2TSxZ",
        "outputId": "1b5953fb-1f50-4ac0-fa29-5dfadbf35ddc"
      },
      "outputs": [
        {
          "data": {
            "text/plain": [
              "0.0"
            ]
          },
          "execution_count": 12,
          "metadata": {},
          "output_type": "execute_result"
        }
      ],
      "source": [
        "word = 'them'\n",
        "tf = term_frequency(test[2], word)\n",
        "tf"
      ]
    },
    {
      "cell_type": "code",
      "execution_count": 13,
      "metadata": {
        "id": "HA99G_yAGLCC"
      },
      "outputs": [],
      "source": [
        "import math\n",
        "# Create a function to calculate the Inverse Document Frequency\n",
        "total_docs = len(text)\n",
        "def inverse_df(word,):\n",
        "    '''\n",
        "    word: word whose inverse document frequency is to be calculated\n",
        "    ---\n",
        "    idf: return inverse document frequency value\n",
        "    '''\n",
        "    doc_containing_word = freq_word.get(word, 0)\n",
        "    # Calculate IDF\n",
        "    idf = math.log((total_docs / (doc_containing_word + 1))) + 1\n",
        "    return idf"
      ]
    },
    {
      "cell_type": "code",
      "execution_count": 14,
      "metadata": {
        "colab": {
          "base_uri": "https://localhost:8080/"
        },
        "id": "zsJUb2CvbfaY",
        "outputId": "dd3a9475-967a-4a2c-dde3-0c879e6db5a5"
      },
      "outputs": [
        {
          "name": "stdout",
          "output_type": "stream",
          "text": [
            "Inverse Document Frequency of 'to' is: 1.1369463941094173\n"
          ]
        }
      ],
      "source": [
        "word = 'to'\n",
        "idf = inverse_df(word)\n",
        "print(f\"Inverse Document Frequency of '{word}' is: {idf}\")"
      ]
    },
    {
      "cell_type": "code",
      "execution_count": 15,
      "metadata": {
        "id": "F0irgwv2GRfE"
      },
      "outputs": [],
      "source": [
        "#Create a function to combine the term frequencies (TF) and inverse document (IDF) frequencies calculated above to get TF-IDF\n",
        "\n",
        "def tfidf(sentence,dict_idx):\n",
        "    '''\n",
        "    sentence: list containing the entire corpus\n",
        "    dict: dictionary keeping track of index of each word\n",
        "    ---\n",
        "    tf_idf_vec: returns computed tf-idf\n",
        "    '''\n",
        "    # Initialize a vector with zeros of the length equal to the number of unique words\n",
        "    tf_idf_vec = [0] * len(dict_idx)\n",
        "\n",
        "    # Assuming freq_word and total_docs are available from previous calculations\n",
        "    global freq_word, total_docs\n",
        "\n",
        "    # Calculate TF-IDF for each word in the sentence\n",
        "    for word in set(sentence):  # Use set to avoid recalculating for duplicate words\n",
        "        if word in dict_idx:\n",
        "            tf = term_frequency(sentence, word)\n",
        "            idf = inverse_df(word)  # Ensure this function is defined to calculate IDF\n",
        "            # Calculate TF-IDF and place it in the corresponding position in the vector\n",
        "            tf_idf_vec[dict_idx[word]] = tf * idf\n",
        "\n",
        "    return tf_idf_vec"
      ]
    },
    {
      "cell_type": "code",
      "execution_count": 16,
      "metadata": {},
      "outputs": [
        {
          "name": "stdout",
          "output_type": "stream",
          "text": [
            "Tokenized texts have been saved to tokenized_texts.json.\n",
            "Tokenized texts have been reloaded from the file.\n",
            "Tokenized texts have been saved to tokenized_train.json.\n",
            "Tokenized texts have been reloaded from the file.\n"
          ]
        }
      ],
      "source": [
        "import json\n",
        "\n",
        "# Assuming 'lines' is your list of tokenized documents\n",
        "tokenized_text_file = 'tokenized_texts.json'\n",
        "\n",
        "# Writing 'test_lines' to a JSON file\n",
        "with open(tokenized_text_file, 'w') as file:\n",
        "    json.dump(lines, file)\n",
        "\n",
        "print(f\"Tokenized texts have been saved to {tokenized_text_file}.\")\n",
        "\n",
        "# Reading the tokenized texts back from the JSON file\n",
        "with open(tokenized_text_file, 'r') as file:\n",
        "    lines_reloaded = json.load(file)\n",
        "\n",
        "print(\"Tokenized texts have been reloaded from the file.\")\n",
        "\n",
        "# Assuming 'lines' is your list of tokenized documents\n",
        "tokenized_train_file = 'tokenized_train.json'\n",
        "\n",
        "# Writing 'lines' to a JSON file\n",
        "with open(tokenized_train_file, 'w') as file:\n",
        "    json.dump(test_lines, file)\n",
        "\n",
        "print(f\"Tokenized texts have been saved to {tokenized_train_file}.\")\n",
        "\n",
        "# Reading the tokenized texts back from the JSON file\n",
        "with open(tokenized_train_file, 'r') as file:\n",
        "    train_lines_reloaded = json.load(file)\n",
        "\n",
        "print(\"Tokenized texts have been reloaded from the file.\")\n",
        "\n",
        "\n"
      ]
    },
    {
      "cell_type": "code",
      "execution_count": 17,
      "metadata": {},
      "outputs": [
        {
          "name": "stdout",
          "output_type": "stream",
          "text": [
            "TF-IDF vectors have been computed for the reloaded tokenized texts.\n"
          ]
        }
      ],
      "source": [
        "# Make sure to redefine or import your 'tfidf' function and 'dict_idx' as needed\n",
        "\n",
        "# Compute the TF-IDF vectors for the reloaded tokenized texts\n",
        "tf_idf_vectors = np.array([tfidf(doc, dict_idx) for doc in lines_reloaded])\n",
        "tf_idf_vectors_train =np.array([tfidf(doc, dict_idx) for doc in train_lines_reloaded])\n",
        "print(\"TF-IDF vectors have been computed for the reloaded tokenized texts.\")\n"
      ]
    },
    {
      "cell_type": "code",
      "execution_count": 18,
      "metadata": {},
      "outputs": [
        {
          "name": "stdout",
          "output_type": "stream",
          "text": [
            "(7532, 138740)\n",
            "(11314, 138740)\n"
          ]
        }
      ],
      "source": [
        "print(tf_idf_vectors_train.shape)\n",
        "print(tf_idf_vectors.shape)\n"
      ]
    },
    {
      "cell_type": "markdown",
      "metadata": {
        "id": "LE0UGUaSGb8I"
      },
      "source": [
        "## Multinomial Naive Bayes (10 Points)"
      ]
    },
    {
      "cell_type": "code",
      "execution_count": 19,
      "metadata": {
        "id": "yWYcxrdJGfDC"
      },
      "outputs": [
        {
          "data": {
            "text/html": [
              "<style>#sk-container-id-1 {\n",
              "  /* Definition of color scheme common for light and dark mode */\n",
              "  --sklearn-color-text: black;\n",
              "  --sklearn-color-line: gray;\n",
              "  /* Definition of color scheme for unfitted estimators */\n",
              "  --sklearn-color-unfitted-level-0: #fff5e6;\n",
              "  --sklearn-color-unfitted-level-1: #f6e4d2;\n",
              "  --sklearn-color-unfitted-level-2: #ffe0b3;\n",
              "  --sklearn-color-unfitted-level-3: chocolate;\n",
              "  /* Definition of color scheme for fitted estimators */\n",
              "  --sklearn-color-fitted-level-0: #f0f8ff;\n",
              "  --sklearn-color-fitted-level-1: #d4ebff;\n",
              "  --sklearn-color-fitted-level-2: #b3dbfd;\n",
              "  --sklearn-color-fitted-level-3: cornflowerblue;\n",
              "\n",
              "  /* Specific color for light theme */\n",
              "  --sklearn-color-text-on-default-background: var(--sg-text-color, var(--theme-code-foreground, var(--jp-content-font-color1, black)));\n",
              "  --sklearn-color-background: var(--sg-background-color, var(--theme-background, var(--jp-layout-color0, white)));\n",
              "  --sklearn-color-border-box: var(--sg-text-color, var(--theme-code-foreground, var(--jp-content-font-color1, black)));\n",
              "  --sklearn-color-icon: #696969;\n",
              "\n",
              "  @media (prefers-color-scheme: dark) {\n",
              "    /* Redefinition of color scheme for dark theme */\n",
              "    --sklearn-color-text-on-default-background: var(--sg-text-color, var(--theme-code-foreground, var(--jp-content-font-color1, white)));\n",
              "    --sklearn-color-background: var(--sg-background-color, var(--theme-background, var(--jp-layout-color0, #111)));\n",
              "    --sklearn-color-border-box: var(--sg-text-color, var(--theme-code-foreground, var(--jp-content-font-color1, white)));\n",
              "    --sklearn-color-icon: #878787;\n",
              "  }\n",
              "}\n",
              "\n",
              "#sk-container-id-1 {\n",
              "  color: var(--sklearn-color-text);\n",
              "}\n",
              "\n",
              "#sk-container-id-1 pre {\n",
              "  padding: 0;\n",
              "}\n",
              "\n",
              "#sk-container-id-1 input.sk-hidden--visually {\n",
              "  border: 0;\n",
              "  clip: rect(1px 1px 1px 1px);\n",
              "  clip: rect(1px, 1px, 1px, 1px);\n",
              "  height: 1px;\n",
              "  margin: -1px;\n",
              "  overflow: hidden;\n",
              "  padding: 0;\n",
              "  position: absolute;\n",
              "  width: 1px;\n",
              "}\n",
              "\n",
              "#sk-container-id-1 div.sk-dashed-wrapped {\n",
              "  border: 1px dashed var(--sklearn-color-line);\n",
              "  margin: 0 0.4em 0.5em 0.4em;\n",
              "  box-sizing: border-box;\n",
              "  padding-bottom: 0.4em;\n",
              "  background-color: var(--sklearn-color-background);\n",
              "}\n",
              "\n",
              "#sk-container-id-1 div.sk-container {\n",
              "  /* jupyter's `normalize.less` sets `[hidden] { display: none; }`\n",
              "     but bootstrap.min.css set `[hidden] { display: none !important; }`\n",
              "     so we also need the `!important` here to be able to override the\n",
              "     default hidden behavior on the sphinx rendered scikit-learn.org.\n",
              "     See: https://github.com/scikit-learn/scikit-learn/issues/21755 */\n",
              "  display: inline-block !important;\n",
              "  position: relative;\n",
              "}\n",
              "\n",
              "#sk-container-id-1 div.sk-text-repr-fallback {\n",
              "  display: none;\n",
              "}\n",
              "\n",
              "div.sk-parallel-item,\n",
              "div.sk-serial,\n",
              "div.sk-item {\n",
              "  /* draw centered vertical line to link estimators */\n",
              "  background-image: linear-gradient(var(--sklearn-color-text-on-default-background), var(--sklearn-color-text-on-default-background));\n",
              "  background-size: 2px 100%;\n",
              "  background-repeat: no-repeat;\n",
              "  background-position: center center;\n",
              "}\n",
              "\n",
              "/* Parallel-specific style estimator block */\n",
              "\n",
              "#sk-container-id-1 div.sk-parallel-item::after {\n",
              "  content: \"\";\n",
              "  width: 100%;\n",
              "  border-bottom: 2px solid var(--sklearn-color-text-on-default-background);\n",
              "  flex-grow: 1;\n",
              "}\n",
              "\n",
              "#sk-container-id-1 div.sk-parallel {\n",
              "  display: flex;\n",
              "  align-items: stretch;\n",
              "  justify-content: center;\n",
              "  background-color: var(--sklearn-color-background);\n",
              "  position: relative;\n",
              "}\n",
              "\n",
              "#sk-container-id-1 div.sk-parallel-item {\n",
              "  display: flex;\n",
              "  flex-direction: column;\n",
              "}\n",
              "\n",
              "#sk-container-id-1 div.sk-parallel-item:first-child::after {\n",
              "  align-self: flex-end;\n",
              "  width: 50%;\n",
              "}\n",
              "\n",
              "#sk-container-id-1 div.sk-parallel-item:last-child::after {\n",
              "  align-self: flex-start;\n",
              "  width: 50%;\n",
              "}\n",
              "\n",
              "#sk-container-id-1 div.sk-parallel-item:only-child::after {\n",
              "  width: 0;\n",
              "}\n",
              "\n",
              "/* Serial-specific style estimator block */\n",
              "\n",
              "#sk-container-id-1 div.sk-serial {\n",
              "  display: flex;\n",
              "  flex-direction: column;\n",
              "  align-items: center;\n",
              "  background-color: var(--sklearn-color-background);\n",
              "  padding-right: 1em;\n",
              "  padding-left: 1em;\n",
              "}\n",
              "\n",
              "\n",
              "/* Toggleable style: style used for estimator/Pipeline/ColumnTransformer box that is\n",
              "clickable and can be expanded/collapsed.\n",
              "- Pipeline and ColumnTransformer use this feature and define the default style\n",
              "- Estimators will overwrite some part of the style using the `sk-estimator` class\n",
              "*/\n",
              "\n",
              "/* Pipeline and ColumnTransformer style (default) */\n",
              "\n",
              "#sk-container-id-1 div.sk-toggleable {\n",
              "  /* Default theme specific background. It is overwritten whether we have a\n",
              "  specific estimator or a Pipeline/ColumnTransformer */\n",
              "  background-color: var(--sklearn-color-background);\n",
              "}\n",
              "\n",
              "/* Toggleable label */\n",
              "#sk-container-id-1 label.sk-toggleable__label {\n",
              "  cursor: pointer;\n",
              "  display: block;\n",
              "  width: 100%;\n",
              "  margin-bottom: 0;\n",
              "  padding: 0.5em;\n",
              "  box-sizing: border-box;\n",
              "  text-align: center;\n",
              "}\n",
              "\n",
              "#sk-container-id-1 label.sk-toggleable__label-arrow:before {\n",
              "  /* Arrow on the left of the label */\n",
              "  content: \"▸\";\n",
              "  float: left;\n",
              "  margin-right: 0.25em;\n",
              "  color: var(--sklearn-color-icon);\n",
              "}\n",
              "\n",
              "#sk-container-id-1 label.sk-toggleable__label-arrow:hover:before {\n",
              "  color: var(--sklearn-color-text);\n",
              "}\n",
              "\n",
              "/* Toggleable content - dropdown */\n",
              "\n",
              "#sk-container-id-1 div.sk-toggleable__content {\n",
              "  max-height: 0;\n",
              "  max-width: 0;\n",
              "  overflow: hidden;\n",
              "  text-align: left;\n",
              "  /* unfitted */\n",
              "  background-color: var(--sklearn-color-unfitted-level-0);\n",
              "}\n",
              "\n",
              "#sk-container-id-1 div.sk-toggleable__content.fitted {\n",
              "  /* fitted */\n",
              "  background-color: var(--sklearn-color-fitted-level-0);\n",
              "}\n",
              "\n",
              "#sk-container-id-1 div.sk-toggleable__content pre {\n",
              "  margin: 0.2em;\n",
              "  border-radius: 0.25em;\n",
              "  color: var(--sklearn-color-text);\n",
              "  /* unfitted */\n",
              "  background-color: var(--sklearn-color-unfitted-level-0);\n",
              "}\n",
              "\n",
              "#sk-container-id-1 div.sk-toggleable__content.fitted pre {\n",
              "  /* unfitted */\n",
              "  background-color: var(--sklearn-color-fitted-level-0);\n",
              "}\n",
              "\n",
              "#sk-container-id-1 input.sk-toggleable__control:checked~div.sk-toggleable__content {\n",
              "  /* Expand drop-down */\n",
              "  max-height: 200px;\n",
              "  max-width: 100%;\n",
              "  overflow: auto;\n",
              "}\n",
              "\n",
              "#sk-container-id-1 input.sk-toggleable__control:checked~label.sk-toggleable__label-arrow:before {\n",
              "  content: \"▾\";\n",
              "}\n",
              "\n",
              "/* Pipeline/ColumnTransformer-specific style */\n",
              "\n",
              "#sk-container-id-1 div.sk-label input.sk-toggleable__control:checked~label.sk-toggleable__label {\n",
              "  color: var(--sklearn-color-text);\n",
              "  background-color: var(--sklearn-color-unfitted-level-2);\n",
              "}\n",
              "\n",
              "#sk-container-id-1 div.sk-label.fitted input.sk-toggleable__control:checked~label.sk-toggleable__label {\n",
              "  background-color: var(--sklearn-color-fitted-level-2);\n",
              "}\n",
              "\n",
              "/* Estimator-specific style */\n",
              "\n",
              "/* Colorize estimator box */\n",
              "#sk-container-id-1 div.sk-estimator input.sk-toggleable__control:checked~label.sk-toggleable__label {\n",
              "  /* unfitted */\n",
              "  background-color: var(--sklearn-color-unfitted-level-2);\n",
              "}\n",
              "\n",
              "#sk-container-id-1 div.sk-estimator.fitted input.sk-toggleable__control:checked~label.sk-toggleable__label {\n",
              "  /* fitted */\n",
              "  background-color: var(--sklearn-color-fitted-level-2);\n",
              "}\n",
              "\n",
              "#sk-container-id-1 div.sk-label label.sk-toggleable__label,\n",
              "#sk-container-id-1 div.sk-label label {\n",
              "  /* The background is the default theme color */\n",
              "  color: var(--sklearn-color-text-on-default-background);\n",
              "}\n",
              "\n",
              "/* On hover, darken the color of the background */\n",
              "#sk-container-id-1 div.sk-label:hover label.sk-toggleable__label {\n",
              "  color: var(--sklearn-color-text);\n",
              "  background-color: var(--sklearn-color-unfitted-level-2);\n",
              "}\n",
              "\n",
              "/* Label box, darken color on hover, fitted */\n",
              "#sk-container-id-1 div.sk-label.fitted:hover label.sk-toggleable__label.fitted {\n",
              "  color: var(--sklearn-color-text);\n",
              "  background-color: var(--sklearn-color-fitted-level-2);\n",
              "}\n",
              "\n",
              "/* Estimator label */\n",
              "\n",
              "#sk-container-id-1 div.sk-label label {\n",
              "  font-family: monospace;\n",
              "  font-weight: bold;\n",
              "  display: inline-block;\n",
              "  line-height: 1.2em;\n",
              "}\n",
              "\n",
              "#sk-container-id-1 div.sk-label-container {\n",
              "  text-align: center;\n",
              "}\n",
              "\n",
              "/* Estimator-specific */\n",
              "#sk-container-id-1 div.sk-estimator {\n",
              "  font-family: monospace;\n",
              "  border: 1px dotted var(--sklearn-color-border-box);\n",
              "  border-radius: 0.25em;\n",
              "  box-sizing: border-box;\n",
              "  margin-bottom: 0.5em;\n",
              "  /* unfitted */\n",
              "  background-color: var(--sklearn-color-unfitted-level-0);\n",
              "}\n",
              "\n",
              "#sk-container-id-1 div.sk-estimator.fitted {\n",
              "  /* fitted */\n",
              "  background-color: var(--sklearn-color-fitted-level-0);\n",
              "}\n",
              "\n",
              "/* on hover */\n",
              "#sk-container-id-1 div.sk-estimator:hover {\n",
              "  /* unfitted */\n",
              "  background-color: var(--sklearn-color-unfitted-level-2);\n",
              "}\n",
              "\n",
              "#sk-container-id-1 div.sk-estimator.fitted:hover {\n",
              "  /* fitted */\n",
              "  background-color: var(--sklearn-color-fitted-level-2);\n",
              "}\n",
              "\n",
              "/* Specification for estimator info (e.g. \"i\" and \"?\") */\n",
              "\n",
              "/* Common style for \"i\" and \"?\" */\n",
              "\n",
              ".sk-estimator-doc-link,\n",
              "a:link.sk-estimator-doc-link,\n",
              "a:visited.sk-estimator-doc-link {\n",
              "  float: right;\n",
              "  font-size: smaller;\n",
              "  line-height: 1em;\n",
              "  font-family: monospace;\n",
              "  background-color: var(--sklearn-color-background);\n",
              "  border-radius: 1em;\n",
              "  height: 1em;\n",
              "  width: 1em;\n",
              "  text-decoration: none !important;\n",
              "  margin-left: 1ex;\n",
              "  /* unfitted */\n",
              "  border: var(--sklearn-color-unfitted-level-1) 1pt solid;\n",
              "  color: var(--sklearn-color-unfitted-level-1);\n",
              "}\n",
              "\n",
              ".sk-estimator-doc-link.fitted,\n",
              "a:link.sk-estimator-doc-link.fitted,\n",
              "a:visited.sk-estimator-doc-link.fitted {\n",
              "  /* fitted */\n",
              "  border: var(--sklearn-color-fitted-level-1) 1pt solid;\n",
              "  color: var(--sklearn-color-fitted-level-1);\n",
              "}\n",
              "\n",
              "/* On hover */\n",
              "div.sk-estimator:hover .sk-estimator-doc-link:hover,\n",
              ".sk-estimator-doc-link:hover,\n",
              "div.sk-label-container:hover .sk-estimator-doc-link:hover,\n",
              ".sk-estimator-doc-link:hover {\n",
              "  /* unfitted */\n",
              "  background-color: var(--sklearn-color-unfitted-level-3);\n",
              "  color: var(--sklearn-color-background);\n",
              "  text-decoration: none;\n",
              "}\n",
              "\n",
              "div.sk-estimator.fitted:hover .sk-estimator-doc-link.fitted:hover,\n",
              ".sk-estimator-doc-link.fitted:hover,\n",
              "div.sk-label-container:hover .sk-estimator-doc-link.fitted:hover,\n",
              ".sk-estimator-doc-link.fitted:hover {\n",
              "  /* fitted */\n",
              "  background-color: var(--sklearn-color-fitted-level-3);\n",
              "  color: var(--sklearn-color-background);\n",
              "  text-decoration: none;\n",
              "}\n",
              "\n",
              "/* Span, style for the box shown on hovering the info icon */\n",
              ".sk-estimator-doc-link span {\n",
              "  display: none;\n",
              "  z-index: 9999;\n",
              "  position: relative;\n",
              "  font-weight: normal;\n",
              "  right: .2ex;\n",
              "  padding: .5ex;\n",
              "  margin: .5ex;\n",
              "  width: min-content;\n",
              "  min-width: 20ex;\n",
              "  max-width: 50ex;\n",
              "  color: var(--sklearn-color-text);\n",
              "  box-shadow: 2pt 2pt 4pt #999;\n",
              "  /* unfitted */\n",
              "  background: var(--sklearn-color-unfitted-level-0);\n",
              "  border: .5pt solid var(--sklearn-color-unfitted-level-3);\n",
              "}\n",
              "\n",
              ".sk-estimator-doc-link.fitted span {\n",
              "  /* fitted */\n",
              "  background: var(--sklearn-color-fitted-level-0);\n",
              "  border: var(--sklearn-color-fitted-level-3);\n",
              "}\n",
              "\n",
              ".sk-estimator-doc-link:hover span {\n",
              "  display: block;\n",
              "}\n",
              "\n",
              "/* \"?\"-specific style due to the `<a>` HTML tag */\n",
              "\n",
              "#sk-container-id-1 a.estimator_doc_link {\n",
              "  float: right;\n",
              "  font-size: 1rem;\n",
              "  line-height: 1em;\n",
              "  font-family: monospace;\n",
              "  background-color: var(--sklearn-color-background);\n",
              "  border-radius: 1rem;\n",
              "  height: 1rem;\n",
              "  width: 1rem;\n",
              "  text-decoration: none;\n",
              "  /* unfitted */\n",
              "  color: var(--sklearn-color-unfitted-level-1);\n",
              "  border: var(--sklearn-color-unfitted-level-1) 1pt solid;\n",
              "}\n",
              "\n",
              "#sk-container-id-1 a.estimator_doc_link.fitted {\n",
              "  /* fitted */\n",
              "  border: var(--sklearn-color-fitted-level-1) 1pt solid;\n",
              "  color: var(--sklearn-color-fitted-level-1);\n",
              "}\n",
              "\n",
              "/* On hover */\n",
              "#sk-container-id-1 a.estimator_doc_link:hover {\n",
              "  /* unfitted */\n",
              "  background-color: var(--sklearn-color-unfitted-level-3);\n",
              "  color: var(--sklearn-color-background);\n",
              "  text-decoration: none;\n",
              "}\n",
              "\n",
              "#sk-container-id-1 a.estimator_doc_link.fitted:hover {\n",
              "  /* fitted */\n",
              "  background-color: var(--sklearn-color-fitted-level-3);\n",
              "}\n",
              "</style><div id=\"sk-container-id-1\" class=\"sk-top-container\"><div class=\"sk-text-repr-fallback\"><pre>MultinomialNB()</pre><b>In a Jupyter environment, please rerun this cell to show the HTML representation or trust the notebook. <br />On GitHub, the HTML representation is unable to render, please try loading this page with nbviewer.org.</b></div><div class=\"sk-container\" hidden><div class=\"sk-item\"><div class=\"sk-estimator fitted sk-toggleable\"><input class=\"sk-toggleable__control sk-hidden--visually\" id=\"sk-estimator-id-1\" type=\"checkbox\" checked><label for=\"sk-estimator-id-1\" class=\"sk-toggleable__label fitted sk-toggleable__label-arrow fitted\">&nbsp;&nbsp;MultinomialNB<a class=\"sk-estimator-doc-link fitted\" rel=\"noreferrer\" target=\"_blank\" href=\"https://scikit-learn.org/1.4/modules/generated/sklearn.naive_bayes.MultinomialNB.html\">?<span>Documentation for MultinomialNB</span></a><span class=\"sk-estimator-doc-link fitted\">i<span>Fitted</span></span></label><div class=\"sk-toggleable__content fitted\"><pre>MultinomialNB()</pre></div> </div></div></div></div>"
            ],
            "text/plain": [
              "MultinomialNB()"
            ]
          },
          "execution_count": 19,
          "metadata": {},
          "output_type": "execute_result"
        }
      ],
      "source": [
        "#Fit a Multinomial Naive Bayes Model on our dataset\n",
        "  \n",
        "from sklearn.naive_bayes import MultinomialNB\n",
        "\n",
        "# Initialize the Multinomial Naive Bayes model\n",
        "model = MultinomialNB()\n",
        "y_train= mydata_train.target\n",
        "# Fit the model on the training dataset\n",
        "# Assuming tf_idf_matrix is your training feature set and y_train contains the corresponding labels\n",
        "model.fit(tf_idf_vectors, y_train)\n",
        "\n"
      ]
    },
    {
      "cell_type": "code",
      "execution_count": 20,
      "metadata": {
        "id": "G6CiQB4qGfqH"
      },
      "outputs": [],
      "source": [
        "#Perform testing on the train dataset\n",
        "\n",
        "pred = model.predict(tf_idf_vectors_train)"
      ]
    },
    {
      "cell_type": "code",
      "execution_count": 21,
      "metadata": {},
      "outputs": [
        {
          "name": "stdout",
          "output_type": "stream",
          "text": [
            "11314 7532\n"
          ]
        }
      ],
      "source": [
        "print(len(mydata_train.target), len(pred))\n"
      ]
    },
    {
      "cell_type": "code",
      "execution_count": 23,
      "metadata": {
        "id": "yCLagGu6Gh6T"
      },
      "outputs": [
        {
          "name": "stdout",
          "output_type": "stream",
          "text": [
            "F1 Score:  0.7581103761029917\n",
            "Accuracy:  0.774429102496017\n"
          ]
        }
      ],
      "source": [
        "from sklearn.metrics import f1_score, accuracy_score\n",
        "\n",
        "#Calculate the F1 Score and the Accuracy\n",
        "F1_score = f1_score(mydata_test.target, pred, average='weighted')\n",
        "Accuracy = accuracy_score(mydata_test.target, pred)\n",
        "print(\"F1 Score: \", F1_score)\n",
        "print(\"Accuracy: \", Accuracy)"
      ]
    },
    {
      "cell_type": "markdown",
      "metadata": {
        "id": "bbMRqJv5Gl2F"
      },
      "source": [
        "### Expected Output:\n",
        "F1 Score: 0.9533633964397735\n",
        "\n",
        "Accuracy: 0.9524482941488421"
      ]
    },
    {
      "cell_type": "markdown",
      "metadata": {
        "id": "AWRDuUqU-taV"
      },
      "source": [
        "Your accuracy does not have to be exactly the same. This is just to give you an estimate of what could you expect your accuracy to be around."
      ]
    },
    {
      "cell_type": "markdown",
      "metadata": {
        "id": "UfMc8cz93Cc0"
      },
      "source": [
        "## Question 2 Vector Visualization"
      ]
    },
    {
      "cell_type": "markdown",
      "metadata": {
        "id": "70iwEeL23F7K"
      },
      "source": [
        "In this unsupervised learning task we are going to cluster wikipedia articles into groups using T-SNE visualization after vectorization."
      ]
    },
    {
      "cell_type": "markdown",
      "metadata": {
        "id": "UHx4YuxW36oM"
      },
      "source": [
        "### Collect articles from Wikipedia (10 points)\n",
        "\n",
        "In this section we will download articles from wikipedia and then vectorize them in the next step. You can select somewhat related topics or fetch the articles randomly.\n",
        "(Use dir() and help() functions or refer wikipedia documentation)\n",
        "You may also pick any other data source of your choice instead of wikipedia."
      ]
    },
    {
      "cell_type": "code",
      "execution_count": 26,
      "metadata": {
        "id": "jA419x6__mjg"
      },
      "outputs": [
        {
          "ename": "SyntaxError",
          "evalue": "invalid syntax (2215913165.py, line 2)",
          "output_type": "error",
          "traceback": [
            "\u001b[1;36m  Cell \u001b[1;32mIn[26], line 2\u001b[1;36m\u001b[0m\n\u001b[1;33m    pip3 install wikipedia\u001b[0m\n\u001b[1;37m         ^\u001b[0m\n\u001b[1;31mSyntaxError\u001b[0m\u001b[1;31m:\u001b[0m invalid syntax\n"
          ]
        }
      ],
      "source": [
        "# install libraries\n",
        "# pip3 install wikipedia"
      ]
    },
    {
      "cell_type": "code",
      "execution_count": 31,
      "metadata": {
        "id": "vLMLk4K84Zbn"
      },
      "outputs": [
        {
          "name": "stdout",
          "output_type": "stream",
          "text": [
            "List of article titles to be downloaded: ['European Central Bank', 'Central bank', 'President of the European Central Bank', 'Bank', 'West Bank', 'BANK (art collective)', 'Fintech', 'Financial technology in India', 'Finance', 'International Monetary Fund', 'Pakistan and the International Monetary Fund', 'Romania and the International Monetary Fund', 'Basketball', 'National Basketball Association', 'College basketball', 'Football', 'Association football', 'National Football League', 'College football', 'College Football Playoff', 'Boston College Eagles football', 'Association football', 'The Football Association', 'FIFA']\n",
            "Error fetching summary for FIFA: \"F2F\" may refer to: \n",
            "Friend-to-friend\n",
            "P2P network\n",
            " FAI\n",
            "F2F (TV series)\n",
            "\"F2F\" (song)\n",
            "Grumman F2F\n",
            "Face to Face (disambiguation)\n",
            "supply chain management\n",
            "Differential Manchester encoding\n",
            "Successfully fetched summaries for 23 articles.\n"
          ]
        }
      ],
      "source": [
        "import wikipedia\n",
        "from wikipedia.exceptions import WikipediaException\n",
        "\n",
        "'''\n",
        " Generate a list of wikipedia article to cluster\n",
        " You can maintain a static list of titles or generate them randomly using wikipedia library\n",
        " Some topics include:\n",
        " [\"Northeastern Unversity\", \"Natural language processing\", \"Machine learning\", \"Quantum machine learning\", \"Artificial intelligence\", \"Data science\", \"Master in Data Science\",\n",
        " \"Bank of America\", \"Visa Inc.\", \"European Central Bank\", \"Bank\", \"Financial technology\",\"International Monetary Fund\",\n",
        " \"Basketball\", \"Swimming\", \"Tennis\", \"Football\", \"College Football\", \"Association Football\"]\n",
        "\n",
        " You can add more topics from different categories so that we have a diverse dataset to work with.\n",
        " Ex- About 3+ categories(groups), 3+ topics in each category, 3+ articles in each topic\n",
        "'''\n",
        "\n",
        "# selected topics\n",
        "topics = [\"European Central Bank\", \"Bank\", \"Financial technology\",\"International Monetary Fund\", \"Basketball\", \"Football\", \"College Football\", \"Association Football\"]\n",
        "\n",
        "# list of articles to be downloaded\n",
        "articles = []\n",
        "# For each topic, search for related articles and add them to the articles list\n",
        "for topic in topics:\n",
        "    try:\n",
        "        search_results = wikipedia.search(topic, results=5)  # Adjust results as needed\n",
        "        articles.extend(search_results[:3])  # Take the top 3 results for diversity\n",
        "    except WikipediaException as e:\n",
        "        print(f\"Error searching for articles related to {topic}: {e}\")\n",
        "\n",
        "# Now, articles contains titles of Wikipedia articles to be fetched\n",
        "print(f\"List of article titles to be downloaded: {articles}\")\n",
        "\n",
        "# download and store articles (summaries) in this variable\n",
        "data = []\n",
        "for article in articles:\n",
        "    try:\n",
        "        summary = wikipedia.summary(article)\n",
        "        data.append(summary)  # Append the summary directly to the data list\n",
        "    except WikipediaException as e:\n",
        "        print(f\"Error fetching summary for {article}: {e}\")\n",
        "\n",
        "# Verify the number of summaries fetched\n",
        "print(f\"Successfully fetched summaries for {len(data)} articles.\")\n"
      ]
    },
    {
      "cell_type": "markdown",
      "metadata": {
        "id": "IgpRv7wQ4Dpm"
      },
      "source": [
        "### Cleaning the Data (5 points)\n",
        "In this step you will decide whether to clean the data or not. If you choose to clean, you may utilize the clean function from assignment 1.\n",
        "\n",
        "**Question:** Why are you (not) choosing to clean the data? Think in terms of whether cleaning data will help in the clustering or not."
      ]
    },
    {
      "cell_type": "markdown",
      "metadata": {
        "id": "PnZpDKcaHTGq"
      },
      "source": [
        "**Answer(1-3 sentences):**"
      ]
    },
    {
      "cell_type": "code",
      "execution_count": 44,
      "metadata": {
        "id": "lNj53Pxr963N"
      },
      "outputs": [
        {
          "name": "stderr",
          "output_type": "stream",
          "text": [
            "[nltk_data] Downloading package punkt to\n",
            "[nltk_data]     C:\\Users\\raghu\\AppData\\Roaming\\nltk_data...\n",
            "[nltk_data]   Package punkt is already up-to-date!\n",
            "[nltk_data] Downloading package stopwords to\n",
            "[nltk_data]     C:\\Users\\raghu\\AppData\\Roaming\\nltk_data...\n",
            "[nltk_data]   Package stopwords is already up-to-date!\n",
            "[nltk_data] Downloading package wordnet to\n",
            "[nltk_data]     C:\\Users\\raghu\\AppData\\Roaming\\nltk_data...\n",
            "[nltk_data]   Package wordnet is already up-to-date!\n"
          ]
        },
        {
          "data": {
            "text/plain": [
              "'european central bank ecb prime component eurosystem european system central bank escb well one seven institution european union one world important central bank ecb governing council make monetary policy eurozone european union administers foreign exchange reserve eu member state engages foreign exchange operation defines intermediate monetary objective key interest rate eu ecb executive board enforces policy decision governing council may direct national central bank ecb exclusive right authorise issuance euro banknote member state issue euro coin volume must approved ecb beforehand bank also operates payment system ecb established treaty amsterdam may purpose guaranteeing maintaining price stability december treaty lisbon became effective bank gained official status eu institution ecb created covered eurozone eleven member since greece joined january slovenia january cyprus malta january slovakia january estonia january latvia january lithuania january croatia january current president ecb christine lagarde seated frankfurt germany bank formerly occupied eurotower prior construction new seat ecb directly governed european union law capital stock worth billion owned central bank eu member state shareholder initial capital allocation key determined basis state population gdp capital key readjusted since share ecb transferable used collateral'"
            ]
          },
          "execution_count": 44,
          "metadata": {},
          "output_type": "execute_result"
        }
      ],
      "source": [
        "# You can use Assignment 1's clean message function\n",
        "import re\n",
        "import nltk\n",
        "import string\n",
        "from nltk.stem import WordNetLemmatizer\n",
        "nltk.download('punkt')\n",
        "nltk.download('stopwords')\n",
        "nltk.download('wordnet')\n",
        "\n",
        "\n",
        "def clean_message(messages):\n",
        "    # Initialize lemmatizer and stopwords\n",
        "    lemmatizer = WordNetLemmatizer()\n",
        "    stop_words = set(stopwords.words('english'))\n",
        "    \n",
        "    preprocessed = []\n",
        "    for message in messages:\n",
        "        # Tokenize the message\n",
        "        tokens = word_tokenize(message)\n",
        "        # Clean and lemmatize the tokens\n",
        "        cleaned_tokens = [lemmatizer.lemmatize(token.lower()) for token in tokens\n",
        "                          if token.lower() not in stop_words and token.isalpha()]\n",
        "        preprocessed.append(' '.join(cleaned_tokens))\n",
        "    return preprocessed\n",
        "\n",
        "preprocessed_data = clean_message(data)\n",
        "# Display the first preprocessed summary for verification\n",
        "preprocessed_data[0]"
      ]
    },
    {
      "cell_type": "markdown",
      "metadata": {
        "id": "bvRZUpmq-DmT"
      },
      "source": [
        "### Vectorize the articles (5 points)\n",
        "\n",
        "In this step, we will vectorize the text data. You can use TfidfVectorizer() or countVectorizer() from sklearn library."
      ]
    },
    {
      "cell_type": "code",
      "execution_count": 45,
      "metadata": {
        "id": "gJk8YY89-OU4"
      },
      "outputs": [],
      "source": [
        "from sklearn.feature_extraction.text import TfidfVectorizer\n",
        "import numpy as np\n",
        "\n",
        "vectorizer = TfidfVectorizer()\n",
        "X = vectorizer.fit_transform(preprocessed_data)\n"
      ]
    },
    {
      "cell_type": "code",
      "execution_count": 46,
      "metadata": {
        "id": "DAIGlqEuINWA"
      },
      "outputs": [
        {
          "name": "stdout",
          "output_type": "stream",
          "text": [
            "(23, 1383)\n"
          ]
        }
      ],
      "source": [
        "print(X.shape)"
      ]
    },
    {
      "cell_type": "markdown",
      "metadata": {
        "id": "PKLvrKHRQaQq"
      },
      "source": [
        "### Sample Output:\n",
        "(36, 1552)"
      ]
    },
    {
      "cell_type": "markdown",
      "metadata": {
        "id": "M5ZrGrzD_G8d"
      },
      "source": [
        "### Plot Articles (10 points)\n",
        "Now we will try to verify the groups of articles using T-SNE from sklearn library."
      ]
    },
    {
      "cell_type": "code",
      "execution_count": 51,
      "metadata": {},
      "outputs": [],
      "source": [
        "# Generate group labels based on the topics list\n",
        "group_labels = []\n",
        "for topic in topics:\n",
        "    group_labels += [topic] * 3  # 3 articles per topic as mentioned"
      ]
    },
    {
      "cell_type": "code",
      "execution_count": 52,
      "metadata": {
        "id": "SjcuZBOe-oZq"
      },
      "outputs": [
        {
          "name": "stdout",
          "output_type": "stream",
          "text": [
            "[t-SNE] Computing 10 nearest neighbors...\n",
            "[t-SNE] Indexed 23 samples in 0.001s...\n",
            "[t-SNE] Computed neighbors for 23 samples in 0.002s...\n",
            "[t-SNE] Computed conditional probabilities for sample 23 / 23\n",
            "[t-SNE] Mean sigma: 0.257676\n",
            "[t-SNE] KL divergence after 250 iterations with early exaggeration: 65.769821\n",
            "[t-SNE] KL divergence after 2050 iterations: 0.160284\n"
          ]
        }
      ],
      "source": [
        "from sklearn.manifold import TSNE\n",
        "import matplotlib.pyplot as plt\n",
        "# call TSNE() to fit the data\n",
        "\n",
        "# Assuming `X` is your vectorized text data from TfidfVectorizer or CountVectorizer\n",
        "tsne_model = TSNE(n_components=2, verbose=1, random_state=0, init='pca', n_iter=2500, perplexity=3)\n",
        "tsne_results = tsne_model.fit_transform(X.toarray())  # T-SNE operates on dense arrays, hence the conversion\n"
      ]
    },
    {
      "cell_type": "markdown",
      "metadata": {
        "id": "iCY_blxjO1bs"
      },
      "source": [
        "Plot and annotate the points with different markers for different expected groups."
      ]
    },
    {
      "cell_type": "code",
      "execution_count": 53,
      "metadata": {
        "id": "3ODUA1Vf-rRd"
      },
      "outputs": [
        {
          "data": {
            "image/png": "[encoded data removed]",
            "text/plain": [
              "<Figure size 1200x800 with 1 Axes>"
            ]
          },
          "metadata": {},
          "output_type": "display_data"
        }
      ],
      "source": [
        "\n",
        "# Unique topics for legend\n",
        "unique_topics = np.unique(topics)\n",
        "\n",
        "# Map each topic to a color\n",
        "colors = plt.cm.rainbow(np.linspace(0, 1, len(unique_topics)))\n",
        "color_map = dict(zip(unique_topics, colors))\n",
        "\n",
        "# Plot each point with annotations\n",
        "plt.figure(figsize=(12, 8))\n",
        "for i, (x_coord, y_coord) in enumerate(tsne_results):\n",
        "    plt.scatter(x_coord, y_coord, color=color_map[group_labels[i]], label=group_labels[i])\n",
        "\n",
        "# Create legend without duplicates\n",
        "handles, labels = plt.gca().get_legend_handles_labels()\n",
        "by_label = dict(zip(labels, handles))\n",
        "plt.legend(by_label.values(), by_label.keys(), title=\"Topics\")\n",
        "\n",
        "plt.title('T-SNE Visualization of Wikipedia Articles by Topic')\n",
        "plt.xlabel('T-SNE Dimension 1')\n",
        "plt.ylabel('T-SNE Dimension 2')\n",
        "plt.show()\n",
        "\n"
      ]
    },
    {
      "cell_type": "markdown",
      "metadata": {
        "id": "dYcEi1EC_UGO"
      },
      "source": [
        "**Question:** Comment about the categorizion done by T-SNE. Do the articles of related topics cluster together? (5 points)\n",
        "\n",
        "\n",
        "The T-SNE plot visualizes the Wikipedia articles by topic, where each color represents a different topic category. Based on the plot, we can make several observations:\n",
        "\n",
        "Clusters of Related Topics: Articles under certain topics appear to cluster together, indicating that T-SNE has successfully captured similarities within these groups. For example, we see clusters among articles related to sports (e.g., \"Basketball,\" \"Football,\" \"College Football,\" \"Association Football\") which suggests that T-SNE has identified the semantic relationships between articles within the same broader category.\n",
        "\n",
        "Separation Between Different Topics: There is a clear separation between articles from distinct categories such as finance-related topics (e.g., \"European Central Bank,\" \"Bank,\" \"Financial technology,\" \"International Monetary Fund\") and sports-related topics (e.g., \"Basketball,\" \"Football\"). This separation is a good sign that T-SNE is effectively distinguishing between unrelated topics.\n",
        "\n",
        "Overlapping Points: While there are distinct clusters, some points representing different topics are relatively close to each other or even overlapping. This might indicate shared terminology or content between those articles, or it could be an artifact of the T-SNE dimensionality reduction process that can sometimes place dissimilar points closer together.\n",
        "\n",
        "Outliers: There may be articles that do not cluster closely with others from the same topic (outliers), which may have unique content not shared with other articles in the topic or may be more general in nature.\n",
        "\n",
        "Density and Distribution: The density and distribution of points can tell us about the variance within topics. Topics that are represented by tightly clustered points may have less variance in their content than topics with more spread-out points.\n",
        "\n",
        "From this plot, it can be concluded that T-SNE has done a reasonable job at categorizing the articles into distinct groups based on their content similarity. However, for a comprehensive analysis, one would need to review the articles and possibly conduct a more in-depth analysis, possibly with additional contextual metadata, to fully understand the nature of the clusters and any overlaps or outliers."
      ]
    },
    {
      "cell_type": "markdown",
      "metadata": {
        "id": "tde1Wu5HI6AA"
      },
      "source": [
        "**Answer(1-3 sentences):**  \n",
        "  \n"
      ]
    },
    {
      "cell_type": "markdown",
      "metadata": {
        "id": "U2xrJddIpSsd"
      },
      "source": [
        "# Question 3 Building Neural Networks\n",
        "\n",
        "### We are gonna use Emotions Dataset for this task. We need to classify the given text into different kind of emotions like happy,sad,anger etc..,\n",
        "\n",
        "### We are providing train.txt and val.txt files along with this notebook."
      ]
    },
    {
      "cell_type": "markdown",
      "metadata": {
        "id": "NJYmVbkvphgX"
      },
      "source": [
        "### Library Imports and Utility functions"
      ]
    },
    {
      "cell_type": "code",
      "execution_count": 16,
      "metadata": {
        "id": "BO-HU-7uorVX"
      },
      "outputs": [
        {
          "name": "stderr",
          "output_type": "stream",
          "text": [
            "[nltk_data] Downloading package stopwords to\n",
            "[nltk_data]     C:\\Users\\raghu\\AppData\\Roaming\\nltk_data...\n",
            "[nltk_data]   Package stopwords is already up-to-date!\n",
            "[nltk_data] Downloading package wordnet to\n",
            "[nltk_data]     C:\\Users\\raghu\\AppData\\Roaming\\nltk_data...\n",
            "[nltk_data]   Package wordnet is already up-to-date!\n",
            "[nltk_data] Downloading package words to\n",
            "[nltk_data]     C:\\Users\\raghu\\AppData\\Roaming\\nltk_data...\n",
            "[nltk_data]   Package words is already up-to-date!\n"
          ]
        }
      ],
      "source": [
        "from sklearn.feature_extraction.text import CountVectorizer\n",
        "from sklearn.feature_extraction.text import TfidfVectorizer\n",
        "import nltk\n",
        "from nltk.corpus import stopwords\n",
        "from nltk.stem import PorterStemmer\n",
        "from nltk.tokenize import word_tokenize\n",
        "import string\n",
        "import pandas as pd\n",
        "import numpy as np\n",
        "import re\n",
        "#string.punctuation\n",
        "import nltk\n",
        "nltk.download('stopwords')\n",
        "nltk.download('wordnet')\n",
        "nltk.download('words')\n",
        "\n",
        "stopword = nltk.corpus.stopwords.words('english')\n",
        "wn = nltk.WordNetLemmatizer()\n",
        "ps = nltk.PorterStemmer()\n",
        "words = set(nltk.corpus.words.words())\n",
        "\n",
        "\n",
        "def clean_text(text):\n",
        "  # From the last assignment\n",
        "    text = text.lower()\n",
        "    text = re.sub(r\"http\\S+\", \"\", text)\n",
        "    text = re.sub(r\"www.\\S+\", \"\", text)\n",
        "    text_links_removed = \"\".join([char for char in text if char not in string.punctuation])\n",
        "    text_cleaned = \" \".join([word for word in re.split('\\W+', text_links_removed)\n",
        "        if word not in stopword])\n",
        "    text = \" \".join([wn.lemmatize(word) for word in re.split('\\W+', text_cleaned)])\n",
        "    return text"
      ]
    },
    {
      "cell_type": "markdown",
      "metadata": {
        "id": "B0D5wVjZw7s0"
      },
      "source": [
        "### Q) Importing the datasets and do the necessary cleaning and convert the text into the vectors which are mentioned in the below code blocks. (10 points)"
      ]
    },
    {
      "cell_type": "code",
      "execution_count": 37,
      "metadata": {
        "id": "MOMhmIlGprK9"
      },
      "outputs": [
        {
          "name": "stdout",
          "output_type": "stream",
          "text": [
            "Train shape: (16000, 2)\n",
            "Validation shape: (2000, 2)\n"
          ]
        }
      ],
      "source": [
        "# Import the train.txt and val.txt file into pandas dataframe format\n",
        "# train\n",
        "train_df = pd.read_csv('C:/Users/raghu/Downloads/NLP_Ass2/train-1.txt',delimiter=';', header=None, names=['text', 'label'])\n",
        "# validation\n",
        "val_df = pd.read_csv('C:/Users/raghu/Downloads/NLP_Ass2/val-1.txt', delimiter=';', header=None, names=['text', 'label'])\n",
        "\n",
        "\n",
        "# Print out the shapes\n",
        "print(f'Train shape: {train_df.shape}')\n",
        "print(f'Validation shape: {val_df.shape}')\n",
        "\n",
        "# expected shape of train dataset is (16000,2) and validation dataset is (2000,2)"
      ]
    },
    {
      "cell_type": "code",
      "execution_count": 38,
      "metadata": {
        "id": "PS7K3p7AqAI8"
      },
      "outputs": [],
      "source": [
        "# clean the text in the train and validation dataframes using the clean_text function provided above\n",
        "\n",
        "train_df['text'] = train_df['text'].apply(clean_text)\n",
        "val_df['text'] = val_df['text'].apply(clean_text)\n",
        "\n"
      ]
    },
    {
      "cell_type": "code",
      "execution_count": 78,
      "metadata": {
        "id": "GxZC6RIjq3bu"
      },
      "outputs": [],
      "source": [
        "# initialise count vectorizer from sklearn module with default parameter\n",
        "count_vect = CountVectorizer()\n",
        "\n",
        "# fit on train dataset and transform both train and validation dataset\n",
        "X_train_counts = count_vect.fit_transform(train_df['text']).toarray()\n",
        "X_val_counts = count_vect.transform(val_df['text']).toarray()"
      ]
    },
    {
      "cell_type": "code",
      "execution_count": 79,
      "metadata": {
        "id": "85nuazEzq3YT"
      },
      "outputs": [],
      "source": [
        "# initialise tfidf vectorizer from sklearn module with default parameter\n",
        "tfidf_vectorizer = TfidfVectorizer()\n",
        "\n",
        "# fit on train dataset and transform both train and validation dataset\n",
        "X_train_tfidf = tfidf_vectorizer.fit_transform(train_df['text']).toarray()\n",
        "X_val_tfidf = tfidf_vectorizer.transform(val_df['text']).toarray()"
      ]
    },
    {
      "cell_type": "code",
      "execution_count": 80,
      "metadata": {
        "id": "jgHWAuG-q3Vm"
      },
      "outputs": [],
      "source": [
        "# initialise label encoder from sklearn module\n",
        "from sklearn.preprocessing import LabelEncoder\n",
        "\n",
        "label_encoder = LabelEncoder()\n",
        "\n",
        "# fit on train labels and transform both train and validation labels\n",
        "train_labels_encoded = label_encoder.fit_transform(train_df['label'])\n",
        "\n",
        "# Transform both the training and validation datasets\n",
        "val_labels_encoded = label_encoder.transform(val_df['label'])"
      ]
    },
    {
      "cell_type": "code",
      "execution_count": 81,
      "metadata": {
        "id": "Wjdye0tvq3So"
      },
      "outputs": [],
      "source": [
        "from tensorflow.keras.utils import to_categorical\n",
        "# convert the labels into one hot encoding form\n",
        "train_labels_one_hot = to_categorical(train_labels_encoded)\n",
        "val_labels_one_hot = to_categorical(val_labels_encoded)"
      ]
    },
    {
      "cell_type": "code",
      "execution_count": 82,
      "metadata": {},
      "outputs": [
        {
          "name": "stdout",
          "output_type": "stream",
          "text": [
            "Index(['text', 'label'], dtype='object')\n"
          ]
        }
      ],
      "source": [
        "print(train_df.columns)"
      ]
    },
    {
      "cell_type": "code",
      "execution_count": 83,
      "metadata": {},
      "outputs": [
        {
          "name": "stdout",
          "output_type": "stream",
          "text": [
            "                                                text    label\n",
            "0                              didnt feel humiliated  sadness\n",
            "1  go feeling hopeless damned hopeful around some...  sadness\n",
            "2          im grabbing minute post feel greedy wrong    anger\n",
            "3  ever feeling nostalgic fireplace know still pr...     love\n",
            "4                                    feeling grouchy    anger\n"
          ]
        }
      ],
      "source": [
        "print(train_df.head())"
      ]
    },
    {
      "cell_type": "code",
      "execution_count": 85,
      "metadata": {},
      "outputs": [
        {
          "name": "stdout",
          "output_type": "stream",
          "text": [
            "6\n"
          ]
        }
      ],
      "source": [
        "num_classes = train_labels_one_hot.shape[1]\n",
        "print(num_classes)\n"
      ]
    },
    {
      "cell_type": "markdown",
      "metadata": {
        "id": "xjsiH8YOw-Da"
      },
      "source": [
        "### Q) Build the neural networks using tensorflow keras by following the below instructions. Evaluate the model on different metrics and comment your observations. (20 points)"
      ]
    },
    {
      "cell_type": "code",
      "execution_count": 86,
      "metadata": {
        "id": "AQg14bkTq3KB"
      },
      "outputs": [],
      "source": [
        "import tensorflow as tf\n",
        "from tensorflow.keras import layers, models, regularizers\n",
        "tf.random.set_seed(42)\n",
        "\n",
        "\n",
        "# complete this linear model in tensorflow\n",
        "def build_model(X):\n",
        "\n",
        "  # layer 1 : input layer\n",
        "  inp = tf.keras.Input((X.shape[1],))\n",
        "  # layer 2 : add the dense layer with 2048 units and relu activation\n",
        "  x = layers.Dense(2048, activation='relu')(inp)\n",
        "  # layer 3 : add the dropout layer with dropout rate of 0.5\n",
        "  x = layers.Dropout(0.5)(x)\n",
        "  # layer 4 : add the dense layer with 1024 units with tanh activation and with l2 regularization\n",
        "  x = layers.Dense(1024, activation='tanh', kernel_regularizer=regularizers.l2(0.01))(x)\n",
        "  # layer 5 : add the dropout layer with dropout rate of 0.5\n",
        "  x = layers.Dropout(0.5)(x)\n",
        "  # layer 6 : add the dense layer with 512 units with tanh activation and with l2 regularization\n",
        "  x = layers.Dense(512, activation='tanh', kernel_regularizer=regularizers.l2(0.01))(x)\n",
        "  # layer 7 : add the dropout layer with dropout rate of 0.5\n",
        "  x = layers.Dropout(0.5)(x)\n",
        "  # layer 8 : add the dense layer with 256 units with tanh activation and with l2 regularization\n",
        "  x = layers.Dense(256, activation='tanh', kernel_regularizer=regularizers.l2(0.01))(x)\n",
        "  # layer 9 : add the dropout layer with dropout rate of 0.5\n",
        "  x = layers.Dropout(0.5)(x)\n",
        "  # layer 10 : add the dense layer with 128 units with tanh activation and with l2 regularization\n",
        "  x = layers.Dense(128, activation='tanh', kernel_regularizer=regularizers.l2(0.01))(x)\n",
        "  # layer 11 : add the dropout layer with dropout rate of 0.5\n",
        "  x = layers.Dropout(0.5)(x)\n",
        "  # layer 12 : output layer with units equal to number of classes and activation as softmax\n",
        "  output = layers.Dense(6, activation='softmax')(x)\n",
        "  # use loss as categorical crossentropy, optimizer as rmsprop and evaluate model on auc,precision,recall,accuracy\n",
        "  model = models.Model(inputs=inp, outputs=output)\n",
        "  model.compile(optimizer='rmsprop',\n",
        "                loss='categorical_crossentropy',\n",
        "                metrics=['AUC', 'Precision', 'Recall', 'Accuracy'])\n",
        "  return model\n"
      ]
    },
    {
      "cell_type": "code",
      "execution_count": 87,
      "metadata": {
        "id": "Q71CC1pIsx0O"
      },
      "outputs": [
        {
          "name": "stdout",
          "output_type": "stream",
          "text": [
            "Model: \"model_6\"\n",
            "_________________________________________________________________\n",
            " Layer (type)                Output Shape              Param #   \n",
            "=================================================================\n",
            " input_7 (InputLayer)        [(None, 13457)]           0         \n",
            "                                                                 \n",
            " dense_36 (Dense)            (None, 2048)              27561984  \n",
            "                                                                 \n",
            " dropout_30 (Dropout)        (None, 2048)              0         \n",
            "                                                                 \n",
            " dense_37 (Dense)            (None, 1024)              2098176   \n",
            "                                                                 \n",
            " dropout_31 (Dropout)        (None, 1024)              0         \n",
            "                                                                 \n",
            " dense_38 (Dense)            (None, 512)               524800    \n",
            "                                                                 \n",
            " dropout_32 (Dropout)        (None, 512)               0         \n",
            "                                                                 \n",
            " dense_39 (Dense)            (None, 256)               131328    \n",
            "                                                                 \n",
            " dropout_33 (Dropout)        (None, 256)               0         \n",
            "                                                                 \n",
            " dense_40 (Dense)            (None, 128)               32896     \n",
            "                                                                 \n",
            " dropout_34 (Dropout)        (None, 128)               0         \n",
            "                                                                 \n",
            " dense_41 (Dense)            (None, 6)                 774       \n",
            "                                                                 \n",
            "=================================================================\n",
            "Total params: 30349958 (115.78 MB)\n",
            "Trainable params: 30349958 (115.78 MB)\n",
            "Non-trainable params: 0 (0.00 Byte)\n",
            "_________________________________________________________________\n"
          ]
        }
      ],
      "source": [
        "# call the build_model function and initialize the model\n",
        "\n",
        "model = build_model(X_train_counts)\n",
        "model.summary()"
      ]
    },
    {
      "cell_type": "code",
      "execution_count": 90,
      "metadata": {
        "id": "KyAZNgsBsxwo"
      },
      "outputs": [
        {
          "name": "stdout",
          "output_type": "stream",
          "text": [
            "Epoch 1/10\n",
            "2000/2000 [==============================] - 225s 112ms/step - loss: 2.3381 - auc: 0.8001 - precision: 0.6143 - recall: 0.1690 - Accuracy: 0.4306 - val_loss: 1.2745 - val_auc: 0.8848 - val_precision: 0.8135 - val_recall: 0.3250 - val_Accuracy: 0.5920\n",
            "Epoch 2/10\n",
            "2000/2000 [==============================] - 230s 115ms/step - loss: 1.2705 - auc: 0.8899 - precision: 0.7223 - recall: 0.4688 - Accuracy: 0.6239 - val_loss: 1.2251 - val_auc: 0.9036 - val_precision: 0.7264 - val_recall: 0.5815 - val_Accuracy: 0.6810\n",
            "Epoch 3/10\n",
            "2000/2000 [==============================] - 260s 130ms/step - loss: 1.1743 - auc: 0.9113 - precision: 0.7443 - recall: 0.5744 - Accuracy: 0.6747 - val_loss: 1.1582 - val_auc: 0.9154 - val_precision: 0.7704 - val_recall: 0.5840 - val_Accuracy: 0.7110\n",
            "Epoch 4/10\n",
            "2000/2000 [==============================] - 224s 112ms/step - loss: 1.1123 - auc: 0.9230 - precision: 0.7628 - recall: 0.6203 - Accuracy: 0.7048 - val_loss: 1.1823 - val_auc: 0.9141 - val_precision: 0.7548 - val_recall: 0.6480 - val_Accuracy: 0.7040\n",
            "Epoch 5/10\n",
            "2000/2000 [==============================] - 224s 112ms/step - loss: 1.0694 - auc: 0.9305 - precision: 0.7754 - recall: 0.6489 - Accuracy: 0.7201 - val_loss: 1.1596 - val_auc: 0.9217 - val_precision: 0.7520 - val_recall: 0.6715 - val_Accuracy: 0.7210\n",
            "Epoch 6/10\n",
            "2000/2000 [==============================] - 227s 113ms/step - loss: 1.0524 - auc: 0.9341 - precision: 0.7818 - recall: 0.6661 - Accuracy: 0.7297 - val_loss: 1.1124 - val_auc: 0.9262 - val_precision: 0.7685 - val_recall: 0.6855 - val_Accuracy: 0.7230\n",
            "Epoch 7/10\n",
            "2000/2000 [==============================] - 800s 400ms/step - loss: 1.0230 - auc: 0.9379 - precision: 0.7875 - recall: 0.6765 - Accuracy: 0.7371 - val_loss: 1.1477 - val_auc: 0.9225 - val_precision: 0.7452 - val_recall: 0.6640 - val_Accuracy: 0.7075\n",
            "Epoch 8/10\n",
            "2000/2000 [==============================] - 227s 114ms/step - loss: 1.0066 - auc: 0.9413 - precision: 0.7960 - recall: 0.6946 - Accuracy: 0.7461 - val_loss: 1.1231 - val_auc: 0.9286 - val_precision: 0.7861 - val_recall: 0.6855 - val_Accuracy: 0.7275\n",
            "Epoch 9/10\n",
            "2000/2000 [==============================] - 228s 114ms/step - loss: 0.9941 - auc: 0.9436 - precision: 0.7973 - recall: 0.7003 - Accuracy: 0.7519 - val_loss: 1.2043 - val_auc: 0.9220 - val_precision: 0.7603 - val_recall: 0.7105 - val_Accuracy: 0.7290\n",
            "Epoch 10/10\n",
            "2000/2000 [==============================] - 226s 113ms/step - loss: 0.9872 - auc: 0.9453 - precision: 0.8036 - recall: 0.7067 - Accuracy: 0.7556 - val_loss: 1.1221 - val_auc: 0.9249 - val_precision: 0.7756 - val_recall: 0.6655 - val_Accuracy: 0.7170\n",
            "63/63 [==============================] - 2s 21ms/step - loss: 1.1221 - auc: 0.9249 - precision: 0.7756 - recall: 0.6655 - Accuracy: 0.7170\n"
          ]
        },
        {
          "ename": "ValueError",
          "evalue": "too many values to unpack (expected 2)",
          "output_type": "error",
          "traceback": [
            "\u001b[1;31m---------------------------------------------------------------------------\u001b[0m",
            "\u001b[1;31mValueError\u001b[0m                                Traceback (most recent call last)",
            "Cell \u001b[1;32mIn[90], line 13\u001b[0m\n\u001b[0;32m      5\u001b[0m history \u001b[38;5;241m=\u001b[39m model\u001b[38;5;241m.\u001b[39mfit(X_train_counts, train_labels_one_hot,\n\u001b[0;32m      6\u001b[0m                     epochs\u001b[38;5;241m=\u001b[39m\u001b[38;5;241m10\u001b[39m,\n\u001b[0;32m      7\u001b[0m                     batch_size\u001b[38;5;241m=\u001b[39m\u001b[38;5;241m8\u001b[39m,\n\u001b[0;32m      8\u001b[0m                     validation_data\u001b[38;5;241m=\u001b[39m(X_val_counts, val_labels_one_hot),\n\u001b[0;32m      9\u001b[0m                     verbose\u001b[38;5;241m=\u001b[39m\u001b[38;5;241m1\u001b[39m)\n\u001b[0;32m     11\u001b[0m \u001b[38;5;66;03m# After training, you can evaluate the model's performance on the validation set, if desired:\u001b[39;00m\n\u001b[0;32m     12\u001b[0m \u001b[38;5;66;03m# (Note: This step is optional here since we already evaluate on the validation set during training)\u001b[39;00m\n\u001b[1;32m---> 13\u001b[0m val_loss, val_accuracy \u001b[38;5;241m=\u001b[39m model\u001b[38;5;241m.\u001b[39mevaluate(X_val_counts, val_labels_one_hot, verbose\u001b[38;5;241m=\u001b[39m\u001b[38;5;241m1\u001b[39m)\n\u001b[0;32m     14\u001b[0m \u001b[38;5;28mprint\u001b[39m(\u001b[38;5;124mf\u001b[39m\u001b[38;5;124m'\u001b[39m\u001b[38;5;124mValidation loss: \u001b[39m\u001b[38;5;132;01m{\u001b[39;00mval_loss\u001b[38;5;132;01m}\u001b[39;00m\u001b[38;5;124m, Validation accuracy: \u001b[39m\u001b[38;5;132;01m{\u001b[39;00mval_accuracy\u001b[38;5;132;01m}\u001b[39;00m\u001b[38;5;124m'\u001b[39m)\n",
            "\u001b[1;31mValueError\u001b[0m: too many values to unpack (expected 2)"
          ]
        }
      ],
      "source": [
        "# train and validate the model on the count vectors of text which we have created initially for 10 epochs,\n",
        "# adjust batch size according to your computation power (suggestion use : 8)\n",
        "\n",
        "# Train the model\n",
        "history = model.fit(X_train_counts, train_labels_one_hot,\n",
        "                    epochs=10,\n",
        "                    batch_size=20,\n",
        "                    validation_data=(X_val_counts, val_labels_one_hot),\n",
        "                    verbose=1)\n",
        "\n"
      ]
    },
    {
      "cell_type": "code",
      "execution_count": 98,
      "metadata": {},
      "outputs": [
        {
          "name": "stdout",
          "output_type": "stream",
          "text": [
            "63/63 [==============================] - 1s 20ms/step - loss: 1.1221 - auc: 0.9249 - precision: 0.7756 - recall: 0.6655 - Accuracy: 0.7170\n",
            "Validation Loss: 1.1220964193344116\n",
            "Validation AUC: 0.9249208569526672\n",
            "Validation Precision: 0.7756410241127014\n",
            "Validation Recall: 0.6654999852180481\n",
            "Validation Accuracy: 0.7170000076293945\n"
          ]
        }
      ],
      "source": [
        "evaluation_results = model.evaluate(X_val_counts, val_labels_one_hot, verbose=1)\n",
        "val_loss = evaluation_results[0]\n",
        "val_auc = evaluation_results[1]\n",
        "val_precision = evaluation_results[2]\n",
        "val_recall = evaluation_results[3]\n",
        "val_accuracy = evaluation_results[4]\n",
        "print(f'Validation Loss: {evaluation_results[0]}')\n",
        "print(f'Validation AUC: {evaluation_results[1]}')\n",
        "print(f'Validation Precision: {evaluation_results[2]}')\n",
        "print(f'Validation Recall: {evaluation_results[3]}')\n",
        "print(f'Validation Accuracy: {evaluation_results[4]}')"
      ]
    },
    {
      "cell_type": "code",
      "execution_count": 99,
      "metadata": {
        "id": "nS02IwLCsxmG"
      },
      "outputs": [
        {
          "data": {
            "image/png": "[encoded data removed]",
            "text/plain": [
              "<Figure size 1000x600 with 1 Axes>"
            ]
          },
          "metadata": {},
          "output_type": "display_data"
        },
        {
          "data": {
            "image/png": "[encoded data removed]",
            "text/plain": [
              "<Figure size 1000x600 with 1 Axes>"
            ]
          },
          "metadata": {},
          "output_type": "display_data"
        },
        {
          "data": {
            "image/png": "[encoded data removed]",
            "text/plain": [
              "<Figure size 1000x600 with 1 Axes>"
            ]
          },
          "metadata": {},
          "output_type": "display_data"
        },
        {
          "data": {
            "image/png": "[encoded data removed]",
            "text/plain": [
              "<Figure size 1000x600 with 1 Axes>"
            ]
          },
          "metadata": {},
          "output_type": "display_data"
        },
        {
          "data": {
            "image/png": "[encoded data removed]",
            "text/plain": [
              "<Figure size 1000x600 with 1 Axes>"
            ]
          },
          "metadata": {},
          "output_type": "display_data"
        }
      ],
      "source": [
        "# plot train loss vs val loss, train auc vs val auc, train recall vs val recall, train precision vs val precision and train accuracy vs val accuracy and comment your observations\n",
        "import matplotlib.pyplot as plt\n",
        "\n",
        "# Plot training & validation loss values\n",
        "plt.figure(figsize=(10, 6))\n",
        "plt.plot(history.history['loss'], label='Train Loss')\n",
        "plt.plot(history.history['val_loss'], label='Validation Loss')\n",
        "plt.title('Model Loss')\n",
        "plt.ylabel('Loss')\n",
        "plt.xlabel('Epoch')\n",
        "plt.legend(loc='upper right')\n",
        "plt.show()\n",
        "\n",
        "# Plot training & validation AUC\n",
        "plt.figure(figsize=(10, 6))\n",
        "plt.plot(history.history['auc'], label='Train AUC')\n",
        "plt.plot(history.history['val_auc'], label='Validation AUC')\n",
        "plt.title('Model AUC')\n",
        "plt.ylabel('AUC')\n",
        "plt.xlabel('Epoch')\n",
        "plt.legend(loc='lower right')\n",
        "plt.show()\n",
        "\n",
        "# Plot training & validation Recall\n",
        "plt.figure(figsize=(10, 6))\n",
        "plt.plot(history.history['recall'], label='Train Recall')\n",
        "plt.plot(history.history['val_recall'], label='Validation Recall')\n",
        "plt.title('Model Recall')\n",
        "plt.ylabel('Recall')\n",
        "plt.xlabel('Epoch')\n",
        "plt.legend(loc='lower right')\n",
        "plt.show()\n",
        "\n",
        "# Plot training & validation Precision\n",
        "plt.figure(figsize=(10, 6))\n",
        "plt.plot(history.history['precision'], label='Train Precision')\n",
        "plt.plot(history.history['val_precision'], label='Validation Precision')\n",
        "plt.title('Model Precision')\n",
        "plt.ylabel('Precision')\n",
        "plt.xlabel('Epoch')\n",
        "plt.legend(loc='lower right')\n",
        "plt.show()\n",
        "\n",
        "# Plot training & validation Accuracy\n",
        "# Note: Depending on how you compiled your model, this might be 'accuracy' or 'acc'\n",
        "\n",
        "plt.figure(figsize=(10, 6))\n",
        "plt.plot(history.history['Accuracy'], label='Train Accuracy')\n",
        "plt.plot(history.history['val_Accuracy'], label='Validation Accuracy')\n",
        "plt.title('Model Accuracy')\n",
        "plt.ylabel('Accuracy')\n",
        "plt.xlabel('Epoch')\n",
        "plt.legend(loc='lower right')\n",
        "plt.show()\n"
      ]
    },
    {
      "cell_type": "markdown",
      "metadata": {},
      "source": [
        "## Observations model_count_vectorizer\n",
        "Based on the plots provided for the model trained on the count vectorized dataset, here are some observations:\n",
        "\n",
        "### Model Loss\n",
        "- **Training Loss** decreases rapidly initially and then continues to decrease at a slower pace, indicating that the model is learning and improving its predictions on the training data.\n",
        "- **Validation Loss** decreases initially alongside the training loss but starts to plateau. This pattern suggests that the model may be beginning to overfit to the training data, as the validation loss is not continuing to decrease at the same rate as the training loss.\n",
        "\n",
        "### Model AUC\n",
        "- **Training AUC** shows a steady increase, which is a good sign that the model's ability to discriminate between the positive and negative classes is improving with each epoch on the training set.\n",
        "- **Validation AUC** also increases, but the rate of increase slows down, and it begins to plateau. There is a noticeable gap between the training and validation AUC, which may indicate some overfitting, although the validation AUC remains relatively high.\n",
        "\n",
        "### Model Recall\n",
        "- **Training Recall** increases and then stabilizes, suggesting that the model's ability to identify all relevant instances in the training set is improving and reaching a point of stability.\n",
        "- **Validation Recall** increases but then starts to fluctuate. This fluctuation can be due to the model's performance variability on the validation set, potentially due to overfitting or the model's sensitivity to the specific composition of the validation set.\n",
        "\n",
        "### Model Precision\n",
        "- **Training Precision** improves significantly over the epochs, indicating that the model is getting better at making correct positive predictions on the training set.\n",
        "- **Validation Precision** shows an initial increase but then starts to fluctuate. The fluctuations and the overall lower precision compared to the training precision suggest that the model is less reliable in its positive predictions on the validation set.\n",
        "\n",
        "### Model Accuracy\n",
        "- **Training Accuracy** shows a consistent increase, which indicates that the model is correctly predicting the labels for a higher percentage of the training set over time.\n",
        "- **Validation Accuracy** increases but then begins to level off and even decrease slightly. This pattern may suggest that the model is not generalizing as well as it could to new data, which is often a sign of overfitting.\n",
        "\n",
        "### General Observations\n",
        "- The model is learning and improving on the training data across all metrics, as indicated by decreasing loss and increasing AUC, recall, precision, and accuracy.\n",
        "- The validation metrics' trends suggest that the model might be overfitting to the training data. The plateauing and fluctuations in validation loss, recall, precision, and accuracy point to the model's reduced ability to generalize to unseen data.\n",
        "- To address potential overfitting, you might consider strategies such as introducing regularization (e.g., L2 regularization), using dropout layers, reducing the complexity of the model, or implementing early stopping to halt training when the validation metrics cease to improve.\n",
        "- The model's performance on the validation set, particularly in terms of AUC, suggests that the model has good predictive power. However, the signs of overfitting should be addressed to improve the model's generalization capabilities."
      ]
    },
    {
      "cell_type": "code",
      "execution_count": 102,
      "metadata": {
        "id": "6FHdCcp7wXyw"
      },
      "outputs": [
        {
          "name": "stdout",
          "output_type": "stream",
          "text": [
            "Model: \"model_9\"\n",
            "_________________________________________________________________\n",
            " Layer (type)                Output Shape              Param #   \n",
            "=================================================================\n",
            " input_10 (InputLayer)       [(None, 13457)]           0         \n",
            "                                                                 \n",
            " dense_54 (Dense)            (None, 2048)              27561984  \n",
            "                                                                 \n",
            " dropout_45 (Dropout)        (None, 2048)              0         \n",
            "                                                                 \n",
            " dense_55 (Dense)            (None, 1024)              2098176   \n",
            "                                                                 \n",
            " dropout_46 (Dropout)        (None, 1024)              0         \n",
            "                                                                 \n",
            " dense_56 (Dense)            (None, 512)               524800    \n",
            "                                                                 \n",
            " dropout_47 (Dropout)        (None, 512)               0         \n",
            "                                                                 \n",
            " dense_57 (Dense)            (None, 256)               131328    \n",
            "                                                                 \n",
            " dropout_48 (Dropout)        (None, 256)               0         \n",
            "                                                                 \n",
            " dense_58 (Dense)            (None, 128)               32896     \n",
            "                                                                 \n",
            " dropout_49 (Dropout)        (None, 128)               0         \n",
            "                                                                 \n",
            " dense_59 (Dense)            (None, 6)                 774       \n",
            "                                                                 \n",
            "=================================================================\n",
            "Total params: 30349958 (115.78 MB)\n",
            "Trainable params: 30349958 (115.78 MB)\n",
            "Non-trainable params: 0 (0.00 Byte)\n",
            "_________________________________________________________________\n"
          ]
        }
      ],
      "source": [
        "# again call the build_model function and initialize the model\n",
        "model_tfidf = build_model(X_train_tfidf)\n",
        "model_tfidf.summary()"
      ]
    },
    {
      "cell_type": "code",
      "execution_count": 104,
      "metadata": {
        "id": "k4gB80M6wXvV"
      },
      "outputs": [
        {
          "name": "stdout",
          "output_type": "stream",
          "text": [
            "Epoch 1/10\n",
            "800/800 [==============================] - 94s 116ms/step - loss: 2.2430 - auc: 0.8038 - precision: 0.4872 - recall: 0.1033 - Accuracy: 0.3842 - val_loss: 1.2957 - val_auc: 0.8587 - val_precision: 0.5371 - val_recall: 0.3255 - val_Accuracy: 0.4590\n",
            "Epoch 2/10\n",
            "800/800 [==============================] - 93s 116ms/step - loss: 1.1651 - auc: 0.8967 - precision: 0.6975 - recall: 0.4201 - Accuracy: 0.5904 - val_loss: 1.1396 - val_auc: 0.9102 - val_precision: 0.7500 - val_recall: 0.5820 - val_Accuracy: 0.6690\n",
            "Epoch 3/10\n",
            "800/800 [==============================] - 93s 117ms/step - loss: 1.0194 - auc: 0.9308 - precision: 0.8126 - recall: 0.6112 - Accuracy: 0.7172 - val_loss: 1.1348 - val_auc: 0.9122 - val_precision: 0.8204 - val_recall: 0.5345 - val_Accuracy: 0.6865\n",
            "Epoch 4/10\n",
            "800/800 [==============================] - 94s 118ms/step - loss: 0.9628 - auc: 0.9427 - precision: 0.8352 - recall: 0.6543 - Accuracy: 0.7531 - val_loss: 1.0919 - val_auc: 0.9249 - val_precision: 0.8248 - val_recall: 0.6025 - val_Accuracy: 0.7365\n",
            "Epoch 5/10\n",
            "800/800 [==============================] - 93s 116ms/step - loss: 0.9242 - auc: 0.9491 - precision: 0.8456 - recall: 0.6757 - Accuracy: 0.7671 - val_loss: 1.0933 - val_auc: 0.9307 - val_precision: 0.8183 - val_recall: 0.6710 - val_Accuracy: 0.7545\n",
            "Epoch 6/10\n",
            "800/800 [==============================] - 93s 117ms/step - loss: 0.8945 - auc: 0.9540 - precision: 0.8544 - recall: 0.7003 - Accuracy: 0.7807 - val_loss: 1.1224 - val_auc: 0.9323 - val_precision: 0.8042 - val_recall: 0.7105 - val_Accuracy: 0.7495\n",
            "Epoch 7/10\n",
            "800/800 [==============================] - 93s 117ms/step - loss: 0.8738 - auc: 0.9580 - precision: 0.8575 - recall: 0.7246 - Accuracy: 0.7881 - val_loss: 1.1152 - val_auc: 0.9311 - val_precision: 0.8069 - val_recall: 0.6935 - val_Accuracy: 0.7420\n",
            "Epoch 8/10\n",
            "800/800 [==============================] - 93s 117ms/step - loss: 0.8511 - auc: 0.9608 - precision: 0.8586 - recall: 0.7399 - Accuracy: 0.7952 - val_loss: 1.1841 - val_auc: 0.9243 - val_precision: 0.8023 - val_recall: 0.6635 - val_Accuracy: 0.7260\n",
            "Epoch 9/10\n",
            "800/800 [==============================] - 93s 117ms/step - loss: 0.8367 - auc: 0.9637 - precision: 0.8639 - recall: 0.7505 - Accuracy: 0.8046 - val_loss: 1.1390 - val_auc: 0.9277 - val_precision: 0.7998 - val_recall: 0.6810 - val_Accuracy: 0.7295\n",
            "Epoch 10/10\n",
            "800/800 [==============================] - 94s 117ms/step - loss: 0.8170 - auc: 0.9660 - precision: 0.8654 - recall: 0.7676 - Accuracy: 0.8073 - val_loss: 1.1194 - val_auc: 0.9248 - val_precision: 0.7887 - val_recall: 0.6365 - val_Accuracy: 0.7215\n"
          ]
        }
      ],
      "source": [
        "# train and validate the model on the tfidf vectors of text which we have created initially for 10 epochs,\n",
        "# adjust batch size according to your computation power (suggestion use : 8)\n",
        "# Train the model\n",
        "history_tfidf = model_tfidf.fit(X_train_tfidf, train_labels_one_hot,\n",
        "                    epochs=10,\n",
        "                    batch_size=20,\n",
        "                    validation_data=(X_val_tfidf, val_labels_one_hot),\n",
        "                    verbose=1)"
      ]
    },
    {
      "cell_type": "code",
      "execution_count": 112,
      "metadata": {},
      "outputs": [
        {
          "name": "stdout",
          "output_type": "stream",
          "text": [
            "63/63 [==============================] - 1s 19ms/step - loss: 4.6243 - auc: 0.7297 - precision: 0.4244 - recall: 0.4025 - Accuracy: 0.4205\n",
            "Validation Loss: 4.624263286590576\n",
            "Validation AUC: 0.7296618819236755\n",
            "Validation Precision: 0.4243542551994324\n",
            "Validation Recall: 0.4025000035762787\n",
            "Validation Accuracy: 0.4205000102519989\n"
          ]
        }
      ],
      "source": [
        "evaluation_results_tfidf = model_tfidf.evaluate(X_val_counts, val_labels_one_hot, verbose=1)\n",
        "val_loss = evaluation_results_tfidf[0]\n",
        "val_auc = evaluation_results_tfidf[1]\n",
        "val_precision = evaluation_results_tfidf[2]\n",
        "val_recall = evaluation_results_tfidf[3]\n",
        "val_accuracy = evaluation_results_tfidf[4]\n",
        "print(f'Validation Loss: {evaluation_results_tfidf[0]}')\n",
        "print(f'Validation AUC: {evaluation_results_tfidf[1]}')\n",
        "print(f'Validation Precision: {evaluation_results_tfidf[2]}')\n",
        "print(f'Validation Recall: {evaluation_results_tfidf[3]}')\n",
        "print(f'Validation Accuracy: {evaluation_results_tfidf[4]}')"
      ]
    },
    {
      "cell_type": "code",
      "execution_count": 113,
      "metadata": {
        "id": "EsnEOHXRwXkv"
      },
      "outputs": [
        {
          "data": {
            "image/png": "[encoded data removed]",
            "text/plain": [
              "<Figure size 1000x600 with 1 Axes>"
            ]
          },
          "metadata": {},
          "output_type": "display_data"
        },
        {
          "data": {
            "image/png": "[encoded data removed]",
            "text/plain": [
              "<Figure size 1000x600 with 1 Axes>"
            ]
          },
          "metadata": {},
          "output_type": "display_data"
        },
        {
          "data": {
            "image/png": "[encoded data removed]",
            "text/plain": [
              "<Figure size 1000x600 with 1 Axes>"
            ]
          },
          "metadata": {},
          "output_type": "display_data"
        },
        {
          "data": {
            "image/png": "[encoded data removed]",
            "text/plain": [
              "<Figure size 1000x600 with 1 Axes>"
            ]
          },
          "metadata": {},
          "output_type": "display_data"
        },
        {
          "data": {
            "image/png": "[encoded data removed]",
            "text/plain": [
              "<Figure size 1000x600 with 1 Axes>"
            ]
          },
          "metadata": {},
          "output_type": "display_data"
        }
      ],
      "source": [
        "# plot train loss vs val loss, train auc vs val auc, train recall vs val recall, train precision vs val precision and train accuracy vs val accuracy and comment your observations\n",
        "# plot train loss vs val loss, train auc vs val auc, train recall vs val recall, train precision vs val precision and train accuracy vs val accuracy and comment your observations\n",
        "import matplotlib.pyplot as plt\n",
        "history = history_tfidf\n",
        "# Plot training & validation loss values\n",
        "plt.figure(figsize=(10, 6))\n",
        "plt.plot(history.history['loss'], label='Train Loss')\n",
        "plt.plot(history.history['val_loss'], label='Validation Loss')\n",
        "plt.title('Model Loss')\n",
        "plt.ylabel('Loss')\n",
        "plt.xlabel('Epoch')\n",
        "plt.legend(loc='upper right')\n",
        "plt.show()\n",
        "\n",
        "# Plot training & validation AUC\n",
        "plt.figure(figsize=(10, 6))\n",
        "plt.plot(history.history['auc'], label='Train AUC')\n",
        "plt.plot(history.history['val_auc'], label='Validation AUC')\n",
        "plt.title('Model AUC')\n",
        "plt.ylabel('AUC')\n",
        "plt.xlabel('Epoch')\n",
        "plt.legend(loc='lower right')\n",
        "plt.show()\n",
        "\n",
        "# Plot training & validation Recall\n",
        "plt.figure(figsize=(10, 6))\n",
        "plt.plot(history.history['recall'], label='Train Recall')\n",
        "plt.plot(history.history['val_recall'], label='Validation Recall')\n",
        "plt.title('Model Recall')\n",
        "plt.ylabel('Recall')\n",
        "plt.xlabel('Epoch')\n",
        "plt.legend(loc='lower right')\n",
        "plt.show()\n",
        "\n",
        "# Plot training & validation Precision\n",
        "plt.figure(figsize=(10, 6))\n",
        "plt.plot(history.history['precision'], label='Train Precision')\n",
        "plt.plot(history.history['val_precision'], label='Validation Precision')\n",
        "plt.title('Model Precision')\n",
        "plt.ylabel('Precision')\n",
        "plt.xlabel('Epoch')\n",
        "plt.legend(loc='lower right')\n",
        "plt.show()\n",
        "\n",
        "# Plot training & validation Accuracy\n",
        "# Note: Depending on how you compiled your model, this might be 'accuracy' or 'acc'\n",
        "\n",
        "plt.figure(figsize=(10, 6))\n",
        "plt.plot(history.history['Accuracy'], label='Train Accuracy')\n",
        "plt.plot(history.history['val_Accuracy'], label='Validation Accuracy')\n",
        "plt.title('Model Accuracy')\n",
        "plt.ylabel('Accuracy')\n",
        "plt.xlabel('Epoch')\n",
        "plt.legend(loc='lower right')\n",
        "plt.show()\n"
      ]
    },
    {
      "cell_type": "markdown",
      "metadata": {},
      "source": [
        "## Observations-model_tfidf\n",
        "\n",
        "Based on the graphs you've provided for the model trained on a TF-IDF dataset, here are some observations and interpretations for each of the metrics:\n",
        "\n",
        "### Model Loss\n",
        "- **Training Loss** is steadily decreasing, which typically indicates that the model is learning and improving in its ability to fit the training data over epochs.\n",
        "- **Validation Loss** starts to plateau or increase slightly after a certain number of epochs. This could be a sign of overfitting, where the model is becoming too specialized to the training data and is losing its generalization ability on the validation data.\n",
        "\n",
        "### Model AUC (Area Under the ROC Curve)\n",
        "- **Training AUC** is increasing, which suggests that the model's ability to distinguish between classes is improving for the training set.\n",
        "- **Validation AUC** also increases but seems to level off. The gap between training and validation AUC suggests the model may be overfitting. However, the validation AUC is still quite high, which indicates good model performance.\n",
        "\n",
        "### Model Recall\n",
        "- **Training Recall** is improving, showing that the model is getting better at correctly identifying positive cases in the training set.\n",
        "- **Validation Recall** also improves but starts to level off or decrease, indicating that while the model's ability to find all positive samples in the training set is increasing, it may not be improving in the same way on the validation set.\n",
        "\n",
        "### Model Precision\n",
        "- **Training Precision** is increasing, which indicates that the model is becoming more precise in its predictions on the training set, with fewer false positives.\n",
        "- **Validation Precision** shows an initial increase but then a decrease, suggesting that the model is starting to make more false positive errors on the validation set as training progresses.\n",
        "\n",
        "### Model Accuracy\n",
        "- **Training Accuracy** shows a steady increase, which is expected as the model becomes better at predicting the correct labels for the training data.\n",
        "- **Validation Accuracy** starts to plateau and then slightly decrease, which again suggests potential overfitting. The model's generalization to new data might not be improving after a certain point.\n",
        "\n",
        "### General Observations\n",
        "- The model appears to be learning and improving on the training data across all metrics.\n",
        "- There is a consistent trend where validation metrics begin to plateau or slightly worsen after a certain number of epochs, which could indicate the model is starting to overfit.\n",
        "- It might be beneficial to implement some form of regularization, such as dropout or L2 regularization, to mitigate overfitting. Additionally, early stopping could be introduced to stop training once the validation metrics stop improving.\n",
        "- Since the model's performance on the validation set is still relatively good, especially in terms of AUC, the model is likely to be quite robust. However, fine-tuning and regularization could help improve its generalization even further."
      ]
    },
    {
      "cell_type": "markdown",
      "metadata": {
        "id": "4adDDQWeQyGb"
      },
      "source": [
        "## Question 4 Theory Question  \n",
        "\n",
        "What is the difference between Count Vectorizer, TFIDF, Word2Vec and Glove? (5 points)"
      ]
    },
    {
      "cell_type": "markdown",
      "metadata": {
        "id": "cXTRkF6KRB_D"
      },
      "source": [
        "**Answer:**\n",
        "The differences among Count Vectorizer, TF-IDF, Word2Vec, and GloVe primarily revolve around how they represent text data for machine learning models. Each technique has its unique approach to converting text into numerical vectors, capturing different aspects of the text's information.\n",
        "\n",
        "### Count Vectorizer (Bag of Words)\n",
        "\n",
        "- **Basic Idea**: Transforms text documents into vectors where each element of the vector represents the count of a particular word in the document. It's a form of the Bag of Words model.\n",
        "- **Features**: Generates a vocabulary of all unique words across documents and uses word counts as features.\n",
        "- **Pros**: Simple and easy to understand and implement. Good for small datasets.\n",
        "- **Cons**: Ignores word order and context. Treats every word independently and gives equal importance to all words, which can be a disadvantage for understanding the semantics of the text. It also leads to sparse matrices, which can be inefficient for large vocabularies.\n",
        "\n",
        "### TF-IDF (Term Frequency-Inverse Document Frequency)\n",
        "\n",
        "- **Basic Idea**: Similar to Count Vectorizer but with an additional layer that reduces the weight of words that appear frequently across documents (thus are less informative) while increasing the weight of words that appear less frequently.\n",
        "- **Features**: Considers both the frequency of words in a specific document and their frequency across all documents to assign weights to words.\n",
        "- **Pros**: More informative than simple counts as it helps differentiate documents based on unique words. Reduces the problem of common words that are not useful for classification.\n",
        "- **Cons**: Still ignores the context and order of words. The representation can still be sparse for large vocabularies.\n",
        "\n",
        "### Word2Vec\n",
        "\n",
        "- **Basic Idea**: A predictive model that uses neural networks to learn word associations from a large corpus of text. It represents words in a continuous vector space where semantically similar words are mapped to proximate points.\n",
        "- **Features**: Generates dense word embeddings (i.e., dense vectors for words) based on the context in which words appear. Offers two architectures: Continuous Bag of Words (CBOW) and Skip-Gram.\n",
        "- **Pros**: Captures semantic relationships between words and the context in which they appear. Dense representation is more efficient than sparse matrices.\n",
        "- **Cons**: Requires a large amount of text data to train effectively. Does not directly encode meaning beyond word-level associations (e.g., sentence or document level).\n",
        "\n",
        "### GloVe (Global Vectors for Word Representation)\n",
        "\n",
        "- **Basic Idea**: An unsupervised learning algorithm for obtaining vector representations for words by aggregating global word-word co-occurrence statistics from a corpus. The model then learns word vectors such that their dot product equals the logarithm of the words' probability of co-occurrence.\n",
        "- **Features**: Combines the advantages of matrix factorization techniques (like those used in latent semantic analysis) with the local context-based learning of Word2Vec.\n",
        "- **Pros**: Captures both global statistics and local context, leading to rich word embeddings that reflect both semantic and syntactic similarities.\n",
        "- **Cons**: Like Word2Vec, requires a large corpus for training to capture rich word embeddings. Does not inherently handle polysemy (words with multiple meanings).\n",
        "\n",
        "### Summary\n",
        "\n",
        "- **Count Vectorizer and TF-IDF** are simpler, traditional methods focusing on word frequency but lacking in capturing word context or semantic relationships.\n",
        "- **Word2Vec and GloVe** provide dense word embeddings that capture semantic relationships based on word usage in context, offering more nuanced text representations that can significantly improve the performance of many NLP tasks. However, they require more computational resources to train and manage."
      ]
    },
    {
      "cell_type": "markdown",
      "metadata": {
        "id": "yQQsqcto79zE"
      },
      "source": [
        "What is the significant difference between the Naive Bayes Implementation using Bag of Words and TF-IDF? (5 points)"
      ]
    },
    {
      "cell_type": "markdown",
      "metadata": {
        "id": "JtiPCTZM8Aua"
      },
      "source": [
        "**Answer:**\n",
        "Naive Bayes is a simple yet effective probabilistic machine learning model used for classification tasks, particularly in text classification. The significant difference between using Bag of Words (BoW) and TF-IDF (Term Frequency-Inverse Document Frequency) with Naive Bayes lies in how they represent text data and the weight they assign to each word in the text. Both methods convert text into numerical features that Naive Bayes can use for classification, but they do so in different ways that can impact the model's performance and interpretation of the text.\n",
        "\n",
        "### Bag of Words (BoW)\n",
        "\n",
        "1. **Representation**: BoW models text data by creating a vocabulary of all unique words in the training set and then counting how many times each word appears in each document. Each document is represented as a vector, with each element of the vector corresponding to the count of a word in the document.\n",
        "   \n",
        "2. **Word Weights**: In BoW, all words are treated equally, with their counts directly used as features. This can sometimes be a limitation because common words (e.g., \"the\", \"is\", \"and\") that appear in many documents but may not be informative about the document's content, receive the same treatment as less frequent but more meaningful words.\n",
        "\n",
        "3. **Pros**: Simplicity and ease of implementation. BoW is straightforward to understand and implement, making it a popular choice for initial explorations of text data.\n",
        "   \n",
        "4. **Cons**: Ignores word context and document length, and treats common words as equally important as rare words, which can sometimes lead to suboptimal performance, especially in datasets with diverse document lengths and vocabularies.\n",
        "\n",
        "### TF-IDF\n",
        "\n",
        "1. **Representation**: TF-IDF stands for Term Frequency-Inverse Document Frequency. It not only considers how often a word appears in a document (term frequency) but also how unique the word is across all documents in the corpus (inverse document frequency). This results in a weighted count where more unique words are given higher importance.\n",
        "   \n",
        "2. **Word Weights**: TF-IDF decreases the weight of words that appear very frequently across documents (thus considered less informative) and increases the weight of words that appear less frequently. This helps in distinguishing documents based on the more unique words they contain.\n",
        "\n",
        "3. **Pros**: By considering both the frequency of words and their distribution across documents, TF-IDF can lead to better performance in many text classification tasks. It helps in handling the common words problem by giving more weight to words that are likely to be more informative about the content of each document.\n",
        "   \n",
        "4. **Cons**: More complex than BoW, both in terms of understanding and computation. It also still ignores the order of words, so the context is not captured.\n",
        "\n",
        "### Summary\n",
        "\n",
        "- **Use of BoW vs. TF-IDF with Naive Bayes** can significantly impact model performance. TF-IDF generally provides better results for text classification because it emphasizes unique words that help distinguish between documents of different classes.\n",
        "- **Choice of Representation**: The choice between BoW and TF-IDF often depends on the specific dataset and task. For some datasets, the simplicity of BoW might be sufficient and more computationally efficient, while for others, the additional insights provided by TF-IDF might lead to better classification accuracy.\n",
        "- **Context and Semantics**: It's important to note that both BoW and TF-IDF largely ignore the order of words and, therefore, the context and semantics conveyed by that order. Advanced models like word embeddings and deep learning approaches can capture this information, providing even better performance for many tasks."
      ]
    }
  ],
  "metadata": {
    "accelerator": "TPU",
    "colab": {
      "provenance": []
    },
    "kernelspec": {
      "display_name": "Python 3",
      "name": "python3"
    },
    "language_info": {
      "codemirror_mode": {
        "name": "ipython",
        "version": 3
      },
      "file_extension": ".py",
      "mimetype": "text/x-python",
      "name": "python",
      "nbconvert_exporter": "python",
      "pygments_lexer": "ipython3",
      "version": "3.9.13"
    }
  },
  "nbformat": 4,
  "nbformat_minor": 0
}
